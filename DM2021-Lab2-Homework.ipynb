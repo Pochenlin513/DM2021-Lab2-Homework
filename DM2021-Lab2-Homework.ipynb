{
 "cells": [
  {
   "cell_type": "markdown",
   "metadata": {},
   "source": [
    "### Student Information\n",
    "Name: 林柏辰\n",
    "\n",
    "Student ID: 110061530\n",
    "\n",
    "GitHub ID: Pochenlin513\n",
    "\n",
    "Kaggle name: Po-Chen Lin\n",
    "\n",
    "Kaggle private scoreboard snapshot:\n",
    "\n",
    "[Snapshot](img/pic0.png)"
   ]
  },
  {
   "cell_type": "markdown",
   "metadata": {},
   "source": [
    "---"
   ]
  },
  {
   "cell_type": "markdown",
   "metadata": {},
   "source": [
    "### Instructions"
   ]
  },
  {
   "cell_type": "markdown",
   "metadata": {},
   "source": [
    "1. First: __This part is worth 30% of your grade.__ Do the **take home** exercises in the [DM2021-Lab2-master Repo](https://github.com/fhcalderon87/DM2021-Lab2-master). You may need to copy some cells from the Lab notebook to this notebook. \n",
    "\n",
    "\n",
    "2. Second: __This part is worth 30% of your grade.__ Participate in the in-class [Kaggle Competition](https://www.kaggle.com/c/dm2021-lab2-hw2/) regarding Emotion Recognition on Twitter. The scoring will be given according to your place in the Private Leaderboard ranking: \n",
    "    - **Bottom 40%**: Get 20% of the 30% available for this section.\n",
    "\n",
    "    - **Top 41% - 100%**: Get (60-x)/6 + 20 points, where x is your ranking in the leaderboard (ie. If you rank 3rd your score will be (60-3)/6 + 20 = 29.5% out of 30%)   \n",
    "    Submit your last submission __BEFORE the deadline (Dec. 24th 11:59 pm, Friday)__. Make sure to take a screenshot of your position at the end of the competition and store it as '''pic0.png''' under the **img** folder of this repository and rerun the cell **Student Information**.\n",
    "    \n",
    "\n",
    "3. Third: __This part is worth 30% of your grade.__ A report of your work developping the model for the competition (You can use code and comment it). This report should include what your preprocessing steps, the feature engineering steps and an explanation of your model. You can also mention different things you tried and insights you gained. \n",
    "\n",
    "\n",
    "4. Fourth: __This part is worth 10% of your grade.__ It's hard for us to follow if your code is messy :'(, so please **tidy up your notebook** and **add minimal comments where needed**.\n",
    "\n",
    "\n",
    "Upload your files to your repository then submit the link to it on the corresponding e-learn assignment.\n",
    "\n",
    "Make sure to commit and save your changes to your repository __BEFORE the deadline (Dec. 29th 11:59 pm, Wednesday)__. "
   ]
  },
  {
   "cell_type": "markdown",
   "metadata": {},
   "source": [
    "### Begin Assignment Here"
   ]
  },
  {
   "cell_type": "code",
   "execution_count": 1,
   "metadata": {},
   "outputs": [],
   "source": [
    "import pandas as pd\n",
    "\n",
    "### training data\n",
    "anger_train = pd.read_csv(\"data/semeval/train/anger-ratings-0to1.train.txt\",\n",
    "                         sep=\"\\t\", header=None,names=[\"id\", \"text\", \"emotion\", \"intensity\"])\n",
    "sadness_train = pd.read_csv(\"data/semeval/train/sadness-ratings-0to1.train.txt\",\n",
    "                         sep=\"\\t\", header=None, names=[\"id\", \"text\", \"emotion\", \"intensity\"])\n",
    "fear_train = pd.read_csv(\"data/semeval/train/fear-ratings-0to1.train.txt\",\n",
    "                         sep=\"\\t\", header=None, names=[\"id\", \"text\", \"emotion\", \"intensity\"])\n",
    "joy_train = pd.read_csv(\"data/semeval/train/joy-ratings-0to1.train.txt\",\n",
    "                         sep=\"\\t\", header=None, names=[\"id\", \"text\", \"emotion\", \"intensity\"])"
   ]
  },
  {
   "cell_type": "code",
   "execution_count": 2,
   "metadata": {},
   "outputs": [],
   "source": [
    "# combine 4 sub-dataset\n",
    "train_df = pd.concat([anger_train, fear_train, joy_train, sadness_train], ignore_index=True)"
   ]
  },
  {
   "cell_type": "code",
   "execution_count": 3,
   "metadata": {},
   "outputs": [
    {
     "data": {
      "text/html": [
       "<div>\n",
       "<style scoped>\n",
       "    .dataframe tbody tr th:only-of-type {\n",
       "        vertical-align: middle;\n",
       "    }\n",
       "\n",
       "    .dataframe tbody tr th {\n",
       "        vertical-align: top;\n",
       "    }\n",
       "\n",
       "    .dataframe thead th {\n",
       "        text-align: right;\n",
       "    }\n",
       "</style>\n",
       "<table border=\"1\" class=\"dataframe\">\n",
       "  <thead>\n",
       "    <tr style=\"text-align: right;\">\n",
       "      <th></th>\n",
       "      <th>id</th>\n",
       "      <th>text</th>\n",
       "      <th>emotion</th>\n",
       "      <th>intensity</th>\n",
       "    </tr>\n",
       "  </thead>\n",
       "  <tbody>\n",
       "    <tr>\n",
       "      <th>0</th>\n",
       "      <td>10000</td>\n",
       "      <td>How the fu*k! Who the heck! moved my fridge!.....</td>\n",
       "      <td>anger</td>\n",
       "      <td>0.938</td>\n",
       "    </tr>\n",
       "    <tr>\n",
       "      <th>1</th>\n",
       "      <td>10001</td>\n",
       "      <td>So my Indian Uber driver just called someone t...</td>\n",
       "      <td>anger</td>\n",
       "      <td>0.896</td>\n",
       "    </tr>\n",
       "    <tr>\n",
       "      <th>2</th>\n",
       "      <td>10002</td>\n",
       "      <td>@DPD_UK I asked for my parcel to be delivered ...</td>\n",
       "      <td>anger</td>\n",
       "      <td>0.896</td>\n",
       "    </tr>\n",
       "    <tr>\n",
       "      <th>3</th>\n",
       "      <td>10003</td>\n",
       "      <td>so ef whichever butt wipe pulled the fire alar...</td>\n",
       "      <td>anger</td>\n",
       "      <td>0.896</td>\n",
       "    </tr>\n",
       "    <tr>\n",
       "      <th>4</th>\n",
       "      <td>10004</td>\n",
       "      <td>Don't join @BTCare they put the phone down on ...</td>\n",
       "      <td>anger</td>\n",
       "      <td>0.896</td>\n",
       "    </tr>\n",
       "  </tbody>\n",
       "</table>\n",
       "</div>"
      ],
      "text/plain": [
       "      id                                               text emotion  intensity\n",
       "0  10000  How the fu*k! Who the heck! moved my fridge!.....   anger      0.938\n",
       "1  10001  So my Indian Uber driver just called someone t...   anger      0.896\n",
       "2  10002  @DPD_UK I asked for my parcel to be delivered ...   anger      0.896\n",
       "3  10003  so ef whichever butt wipe pulled the fire alar...   anger      0.896\n",
       "4  10004  Don't join @BTCare they put the phone down on ...   anger      0.896"
      ]
     },
     "execution_count": 3,
     "metadata": {},
     "output_type": "execute_result"
    }
   ],
   "source": [
    "### testing data\n",
    "anger_test = pd.read_csv(\"data/semeval/dev/anger-ratings-0to1.dev.gold.txt\",\n",
    "                         sep=\"\\t\", header=None, names=[\"id\", \"text\", \"emotion\", \"intensity\"])\n",
    "sadness_test = pd.read_csv(\"data/semeval/dev/sadness-ratings-0to1.dev.gold.txt\",\n",
    "                         sep=\"\\t\", header=None, names=[\"id\", \"text\", \"emotion\", \"intensity\"])\n",
    "fear_test = pd.read_csv(\"data/semeval/dev/fear-ratings-0to1.dev.gold.txt\",\n",
    "                         sep=\"\\t\", header=None, names=[\"id\", \"text\", \"emotion\", \"intensity\"])\n",
    "joy_test = pd.read_csv(\"data/semeval/dev/joy-ratings-0to1.dev.gold.txt\",\n",
    "                         sep=\"\\t\", header=None, names=[\"id\", \"text\", \"emotion\", \"intensity\"])\n",
    "\n",
    "# combine 4 sub-dataset\n",
    "test_df = pd.concat([anger_test, fear_test, joy_test, sadness_test], ignore_index=True)\n",
    "train_df.head()"
   ]
  },
  {
   "cell_type": "markdown",
   "metadata": {},
   "source": [
    "Use `CountVectorizer` to calculate word frequency in each document"
   ]
  },
  {
   "cell_type": "code",
   "execution_count": 4,
   "metadata": {},
   "outputs": [],
   "source": [
    "from sklearn.feature_extraction.text import CountVectorizer\n",
    "import nltk\n",
    "\n",
    "count_vect_train = CountVectorizer()\n",
    "X_counts_train = count_vect_train.fit_transform(train_df.text)\n",
    "\n",
    "count_vect_test = CountVectorizer()\n",
    "X_counts_test = count_vect_test.fit_transform(test_df.text)"
   ]
  },
  {
   "cell_type": "code",
   "execution_count": 5,
   "metadata": {},
   "outputs": [],
   "source": [
    "import numpy as np\n",
    "\n",
    "term_frequencies_train = np.asarray(X_counts_train.sum(axis=0))[0]\n",
    "term_frequencies_test = np.asarray(X_counts_test.sum(axis=0))[0]"
   ]
  },
  {
   "cell_type": "code",
   "execution_count": 6,
   "metadata": {},
   "outputs": [],
   "source": [
    "idx_train = list(reversed(np.argsort(term_frequencies_train)[-30:]))\n",
    "idx_test = list(reversed(np.argsort(term_frequencies_test)[-30:]))"
   ]
  },
  {
   "cell_type": "markdown",
   "metadata": {},
   "source": [
    "---\n",
    "### ** >>> Exercise 1 (Take home): **  \n",
    "Plot word frequency for Top 30 words in both train and test dataset. (Hint: refer to DM lab 1)\n"
   ]
  },
  {
   "cell_type": "code",
   "execution_count": 7,
   "metadata": {
    "scrolled": false
   },
   "outputs": [
    {
     "name": "stdout",
     "output_type": "stream",
     "text": [
      "[word: frequency]\n",
      "\n",
      "the: 1736\n",
      "to: 1289\n",
      "and: 955\n",
      "you: 796\n",
      "of: 793\n",
      "is: 787\n",
      "it: 717\n",
      "in: 626\n",
      "that: 537\n",
      "my: 535\n",
      "for: 446\n",
      "on: 390\n",
      "be: 383\n",
      "me: 380\n",
      "this: 350\n",
      "so: 328\n",
      "have: 312\n",
      "not: 303\n",
      "just: 301\n",
      "but: 293\n",
      "with: 288\n",
      "at: 269\n",
      "can: 257\n",
      "like: 243\n",
      "all: 243\n",
      "are: 231\n",
      "your: 229\n",
      "was: 228\n",
      "when: 226\n",
      "if: 216\n"
     ]
    }
   ],
   "source": [
    "print('[word: frequency]\\n')\n",
    "for i in idx_train:\n",
    "    print('{}: {}'.format(count_vect_train.get_feature_names()[i], term_frequencies_train[i]))"
   ]
  },
  {
   "cell_type": "markdown",
   "metadata": {},
   "source": [
    "#### Print top 30 words in test dataset"
   ]
  },
  {
   "cell_type": "code",
   "execution_count": 8,
   "metadata": {},
   "outputs": [
    {
     "name": "stdout",
     "output_type": "stream",
     "text": [
      "[word: frequency]\n",
      "\n",
      "the: 153\n",
      "to: 138\n",
      "and: 92\n",
      "it: 83\n",
      "of: 83\n",
      "you: 82\n",
      "is: 77\n",
      "in: 69\n",
      "for: 57\n",
      "that: 55\n",
      "my: 52\n",
      "on: 46\n",
      "be: 40\n",
      "me: 36\n",
      "was: 34\n",
      "so: 34\n",
      "can: 32\n",
      "at: 30\n",
      "have: 30\n",
      "all: 30\n",
      "just: 29\n",
      "are: 29\n",
      "with: 29\n",
      "but: 26\n",
      "get: 26\n",
      "your: 24\n",
      "up: 24\n",
      "this: 24\n",
      "like: 24\n",
      "not: 24\n"
     ]
    }
   ],
   "source": [
    "print('[word: frequency]\\n')\n",
    "for i in idx_test:\n",
    "    print('{}: {}'.format(count_vect_test.get_feature_names()[i], term_frequencies_test[i]))"
   ]
  },
  {
   "cell_type": "markdown",
   "metadata": {},
   "source": [
    "### ** >>> End Exercise 1 (Take home): **  "
   ]
  },
  {
   "cell_type": "markdown",
   "metadata": {},
   "source": [
    "---\n",
    "### ** >>> Exercise 2 (Take home): **  \n",
    "Generate an embedding using the TF-IDF vectorizer instead of th BOW one with 1000 features and show the feature names for features [100:110]."
   ]
  },
  {
   "cell_type": "markdown",
   "metadata": {},
   "source": [
    "### TF-IDF"
   ]
  },
  {
   "cell_type": "code",
   "execution_count": 9,
   "metadata": {},
   "outputs": [],
   "source": [
    "from sklearn.feature_extraction.text import TfidfVectorizer\n",
    "\n",
    "tfidf_vect = TfidfVectorizer(max_features=1000, tokenizer=nltk.word_tokenize)\n",
    "X_tfidf_train = tfidf_vect.fit_transform(train_df.text)\n",
    "\n",
    "X_tfidf_test = tfidf_vect.transform(test_df.text)"
   ]
  },
  {
   "cell_type": "markdown",
   "metadata": {},
   "source": [
    "#### Show the feature names for features [100:110]."
   ]
  },
  {
   "cell_type": "code",
   "execution_count": 10,
   "metadata": {},
   "outputs": [
    {
     "data": {
      "text/plain": [
       "['attack',\n",
       " 'attacks',\n",
       " 'awareness',\n",
       " 'away',\n",
       " 'awe',\n",
       " 'awful',\n",
       " 'b',\n",
       " 'baby',\n",
       " 'back',\n",
       " 'bad']"
      ]
     },
     "execution_count": 10,
     "metadata": {},
     "output_type": "execute_result"
    }
   ],
   "source": [
    "tfidf_vect.get_feature_names()[100:110]"
   ]
  },
  {
   "cell_type": "markdown",
   "metadata": {},
   "source": [
    "### ** >>> End Exercise 2 (Take home): **  "
   ]
  },
  {
   "cell_type": "code",
   "execution_count": 11,
   "metadata": {},
   "outputs": [
    {
     "name": "stderr",
     "output_type": "stream",
     "text": [
      "C:\\Users\\acer\\.conda\\envs\\dataMining\\lib\\site-packages\\sklearn\\feature_extraction\\text.py:484: UserWarning: The parameter 'token_pattern' will not be used since 'tokenizer' is not None'\n",
      "  warnings.warn(\"The parameter 'token_pattern' will not be used\"\n"
     ]
    },
    {
     "name": "stdout",
     "output_type": "stream",
     "text": [
      "X_train.shape:  (3613, 500)\n",
      "y_train.shape:  (3613,)\n",
      "X_test.shape:  (347, 500)\n",
      "y_test.shape:  (347,)\n"
     ]
    }
   ],
   "source": [
    "# build analyzers (bag-of-words)\n",
    "BOW_500 = CountVectorizer(max_features=500, tokenizer=nltk.word_tokenize) \n",
    "\n",
    "# apply analyzer to training data\n",
    "BOW_500.fit(train_df['text'])\n",
    "\n",
    "from sklearn.tree import DecisionTreeClassifier\n",
    "\n",
    "# for a classificaiton problem, you need to provide both training & testing data\n",
    "X_train = BOW_500.transform(train_df['text'])\n",
    "y_train = train_df['emotion']\n",
    "\n",
    "X_test = BOW_500.transform(test_df['text'])\n",
    "y_test = test_df['emotion']\n",
    "\n",
    "## take a look at data dimension is a good habbit  :)\n",
    "print('X_train.shape: ', X_train.shape)\n",
    "print('y_train.shape: ', y_train.shape)\n",
    "print('X_test.shape: ', X_test.shape)\n",
    "print('y_test.shape: ', y_test.shape)"
   ]
  },
  {
   "cell_type": "code",
   "execution_count": 12,
   "metadata": {},
   "outputs": [
    {
     "data": {
      "text/plain": [
       "array(['joy', 'anger', 'fear', 'anger', 'fear', 'anger', 'anger', 'anger',\n",
       "       'anger', 'anger'], dtype=object)"
      ]
     },
     "execution_count": 12,
     "metadata": {},
     "output_type": "execute_result"
    }
   ],
   "source": [
    "## build DecisionTree model\n",
    "DT_model = DecisionTreeClassifier(random_state=0)\n",
    "\n",
    "## training!\n",
    "DT_model = DT_model.fit(X_train, y_train)\n",
    "\n",
    "## predict!\n",
    "y_train_pred = DT_model.predict(X_train)\n",
    "y_test_pred = DT_model.predict(X_test)\n",
    "\n",
    "## so we get the pred result\n",
    "y_test_pred[:10]"
   ]
  },
  {
   "cell_type": "code",
   "execution_count": 13,
   "metadata": {},
   "outputs": [
    {
     "name": "stdout",
     "output_type": "stream",
     "text": [
      "training accuracy: 0.99\n",
      "testing accuracy: 0.65\n"
     ]
    }
   ],
   "source": [
    "## accuracy\n",
    "from sklearn.metrics import accuracy_score\n",
    "\n",
    "acc_train = accuracy_score(y_true=y_train, y_pred=y_train_pred)\n",
    "acc_test = accuracy_score(y_true=y_test, y_pred=y_test_pred)\n",
    "\n",
    "print('training accuracy: {}'.format(round(acc_train, 2)))\n",
    "print('testing accuracy: {}'.format(round(acc_test, 2)))"
   ]
  },
  {
   "cell_type": "code",
   "execution_count": 14,
   "metadata": {},
   "outputs": [
    {
     "name": "stdout",
     "output_type": "stream",
     "text": [
      "              precision    recall  f1-score   support\n",
      "\n",
      "       anger       0.64      0.68      0.66        84\n",
      "        fear       0.64      0.67      0.66       110\n",
      "         joy       0.68      0.65      0.66        79\n",
      "     sadness       0.66      0.61      0.63        74\n",
      "\n",
      "    accuracy                           0.65       347\n",
      "   macro avg       0.66      0.65      0.65       347\n",
      "weighted avg       0.65      0.65      0.65       347\n",
      "\n"
     ]
    }
   ],
   "source": [
    "## precision, recall, f1-score,\n",
    "from sklearn.metrics import classification_report\n",
    "\n",
    "print(classification_report(y_true=y_test, y_pred=y_test_pred))"
   ]
  },
  {
   "cell_type": "code",
   "execution_count": 15,
   "metadata": {},
   "outputs": [
    {
     "data": {
      "image/png": "[encoded data removed]",
      "text/plain": [
       "<Figure size 360x360 with 2 Axes>"
      ]
     },
     "metadata": {
      "needs_background": "light"
     },
     "output_type": "display_data"
    }
   ],
   "source": [
    "## check by confusion matrix\n",
    "from sklearn.metrics import confusion_matrix\n",
    "\n",
    "cm = confusion_matrix(y_true=y_test, y_pred=y_test_pred) \n",
    "\n",
    "# Funciton for visualizing confusion_matrix\n",
    "import matplotlib.pyplot as plt\n",
    "import seaborn as sns\n",
    "import itertools\n",
    "\n",
    "def plot_confusion_matrix(cm, classes, title='Confusion matrix',\n",
    "                          cmap=sns.cubehelix_palette(as_cmap=True)):\n",
    "    \"\"\"\n",
    "    This function is modified from: \n",
    "    http://scikit-learn.org/stable/auto_examples/model_selection/plot_confusion_matrix.html\n",
    "    \"\"\"\n",
    "    classes.sort()\n",
    "    tick_marks = np.arange(len(classes))    \n",
    "    \n",
    "    fig, ax = plt.subplots(figsize=(5,5))\n",
    "    im = ax.imshow(cm, interpolation='nearest', cmap=cmap)\n",
    "    ax.figure.colorbar(im, ax=ax)\n",
    "    ax.set(xticks=np.arange(cm.shape[1]),\n",
    "           yticks=np.arange(cm.shape[0]),\n",
    "           xticklabels = classes,\n",
    "           yticklabels = classes,\n",
    "           title = title,\n",
    "           xlabel = 'True label',\n",
    "           ylabel = 'Predicted label')\n",
    "\n",
    "    fmt = 'd'\n",
    "    thresh = cm.max() / 2.\n",
    "    for i, j in itertools.product(range(cm.shape[0]), range(cm.shape[1])):\n",
    "        plt.text(j, i, format(cm[i, j], fmt), horizontalalignment=\"center\", color=\"white\" if cm[i, j] > thresh else \"black\")\n",
    "    ylim_top = len(classes) - 0.5\n",
    "    plt.ylim([ylim_top, -.5])\n",
    "    plt.tight_layout()\n",
    "    plt.show()\n",
    "    \n",
    "# plot your confusion matrix\n",
    "my_tags = ['anger', 'fear', 'joy', 'sadness']\n",
    "plot_confusion_matrix(cm, classes=my_tags, title='Confusion matrix')"
   ]
  },
  {
   "cell_type": "markdown",
   "metadata": {},
   "source": [
    "---\n",
    "### ** >>> Exercise 3 (Take home): **  \n",
    "Can you interpret the results above? What do they mean?"
   ]
  },
  {
   "cell_type": "markdown",
   "metadata": {},
   "source": [
    "The training accuracy is 0.99, while testing accuracy is only 0.65.  The huge difference on result means that the model is overfitting.  The scores on each class does not show significant difference, which means the model is balanced on every class.  "
   ]
  },
  {
   "cell_type": "markdown",
   "metadata": {},
   "source": [
    "### ** >>> End Exercise 3 (Take home): **  "
   ]
  },
  {
   "cell_type": "markdown",
   "metadata": {},
   "source": [
    "---\n",
    "### ** >>> Exercise 4 (Take home): **  \n",
    "Build a model using a ```Naive Bayes``` model and train it. What are the testing results? \n",
    "\n",
    "*Reference*: https://scikit-learn.org/stable/modules/generated/sklearn.naive_bayes.MultinomialNB.html"
   ]
  },
  {
   "cell_type": "code",
   "execution_count": 16,
   "metadata": {},
   "outputs": [
    {
     "name": "stdout",
     "output_type": "stream",
     "text": [
      "training accuracy: 0.8\n",
      "testing accuracy: 0.71\n",
      "              precision    recall  f1-score   support\n",
      "\n",
      "       anger       0.68      0.67      0.67        84\n",
      "        fear       0.72      0.76      0.74       110\n",
      "         joy       0.78      0.73      0.76        79\n",
      "     sadness       0.64      0.65      0.64        74\n",
      "\n",
      "    accuracy                           0.71       347\n",
      "   macro avg       0.71      0.70      0.71       347\n",
      "weighted avg       0.71      0.71      0.71       347\n",
      "\n"
     ]
    },
    {
     "name": "stderr",
     "output_type": "stream",
     "text": [
      "C:\\Users\\acer\\.conda\\envs\\dataMining\\lib\\site-packages\\sklearn\\naive_bayes.py:512: UserWarning: alpha too small will result in numeric errors, setting alpha = 1.0e-10\n",
      "  'setting alpha = %.1e' % _ALPHA_MIN)\n"
     ]
    },
    {
     "data": {
      "image/png": "[encoded data removed]",
      "text/plain": [
       "<Figure size 360x360 with 2 Axes>"
      ]
     },
     "metadata": {
      "needs_background": "light"
     },
     "output_type": "display_data"
    }
   ],
   "source": [
    "from sklearn.naive_bayes import MultinomialNB\n",
    "\n",
    "MNB_model = MultinomialNB(alpha=0)\n",
    "MNB_model.fit(X_train, y_train)\n",
    "\n",
    "y_train_pred = MNB_model.predict(X_train)\n",
    "y_test_pred = MNB_model.predict(X_test)\n",
    "\n",
    "acc_train = accuracy_score(y_true=y_train, y_pred=y_train_pred)\n",
    "acc_test = accuracy_score(y_true=y_test, y_pred=y_test_pred)\n",
    "\n",
    "print('training accuracy: {}'.format(round(acc_train, 2)))\n",
    "print('testing accuracy: {}'.format(round(acc_test, 2)))\n",
    "\n",
    "print(classification_report(y_true=y_test, y_pred=y_test_pred))\n",
    "\n",
    "cm = confusion_matrix(y_true=y_test, y_pred=y_test_pred) \n",
    "plot_confusion_matrix(cm, classes=my_tags, title='Confusion matrix')"
   ]
  },
  {
   "cell_type": "markdown",
   "metadata": {},
   "source": [
    "### ** >>> End Exercise 4 (Take home): **  "
   ]
  },
  {
   "cell_type": "markdown",
   "metadata": {},
   "source": [
    "---\n",
    "### ** >>> Exercise 5 (Take home): **  \n",
    "\n",
    "How do the results from the Naive Bayes model and the Decision Tree model compare? How do you interpret these differences? Use the theoretical background covered in class to try and explain these differences."
   ]
  },
  {
   "cell_type": "markdown",
   "metadata": {},
   "source": [
    "The result is closer between training and testing.  Although training accuracy is lower, the model is not overfitting using the naive bayes model.  The `DecisionTreeClassifier` is a greedy method to split the data depending on the features, so it is easier to overfit on the training dataset and works bad on testing if the samples are not enough and value distributions are different on training and testing.  While `Bayesian Classifiers` consider each feature as random variables and estimate the probability of belonging to different classes.  Thus, `Bayesian Classifers` is less likely to overfit. "
   ]
  },
  {
   "cell_type": "markdown",
   "metadata": {},
   "source": [
    "### ** >>> End Exercise 5 (Take home): **  "
   ]
  },
  {
   "cell_type": "code",
   "execution_count": 17,
   "metadata": {},
   "outputs": [
    {
     "name": "stderr",
     "output_type": "stream",
     "text": [
      "Using TensorFlow backend.\n",
      "C:\\Users\\acer\\.conda\\envs\\dataMining\\lib\\site-packages\\tensorflow\\python\\framework\\dtypes.py:516: FutureWarning: Passing (type, 1) or '1type' as a synonym of type is deprecated; in a future version of numpy, it will be understood as (type, (1,)) / '(1,)type'.\n",
      "  _np_qint8 = np.dtype([(\"qint8\", np.int8, 1)])\n",
      "C:\\Users\\acer\\.conda\\envs\\dataMining\\lib\\site-packages\\tensorflow\\python\\framework\\dtypes.py:517: FutureWarning: Passing (type, 1) or '1type' as a synonym of type is deprecated; in a future version of numpy, it will be understood as (type, (1,)) / '(1,)type'.\n",
      "  _np_quint8 = np.dtype([(\"quint8\", np.uint8, 1)])\n",
      "C:\\Users\\acer\\.conda\\envs\\dataMining\\lib\\site-packages\\tensorflow\\python\\framework\\dtypes.py:518: FutureWarning: Passing (type, 1) or '1type' as a synonym of type is deprecated; in a future version of numpy, it will be understood as (type, (1,)) / '(1,)type'.\n",
      "  _np_qint16 = np.dtype([(\"qint16\", np.int16, 1)])\n",
      "C:\\Users\\acer\\.conda\\envs\\dataMining\\lib\\site-packages\\tensorflow\\python\\framework\\dtypes.py:519: FutureWarning: Passing (type, 1) or '1type' as a synonym of type is deprecated; in a future version of numpy, it will be understood as (type, (1,)) / '(1,)type'.\n",
      "  _np_quint16 = np.dtype([(\"quint16\", np.uint16, 1)])\n",
      "C:\\Users\\acer\\.conda\\envs\\dataMining\\lib\\site-packages\\tensorflow\\python\\framework\\dtypes.py:520: FutureWarning: Passing (type, 1) or '1type' as a synonym of type is deprecated; in a future version of numpy, it will be understood as (type, (1,)) / '(1,)type'.\n",
      "  _np_qint32 = np.dtype([(\"qint32\", np.int32, 1)])\n",
      "C:\\Users\\acer\\.conda\\envs\\dataMining\\lib\\site-packages\\tensorflow\\python\\framework\\dtypes.py:525: FutureWarning: Passing (type, 1) or '1type' as a synonym of type is deprecated; in a future version of numpy, it will be understood as (type, (1,)) / '(1,)type'.\n",
      "  np_resource = np.dtype([(\"resource\", np.ubyte, 1)])\n"
     ]
    },
    {
     "name": "stdout",
     "output_type": "stream",
     "text": [
      "check label:  ['anger' 'fear' 'joy' 'sadness']\n",
      "\n",
      "## Before convert\n",
      "y_train[0:4]:\n",
      " 0    anger\n",
      "1    anger\n",
      "2    anger\n",
      "3    anger\n",
      "Name: emotion, dtype: object\n",
      "\n",
      "y_train.shape:  (3613,)\n",
      "y_test.shape:  (347,)\n",
      "\n",
      "\n",
      "## After convert\n",
      "y_train[0:4]:\n",
      " [[1. 0. 0. 0.]\n",
      " [1. 0. 0. 0.]\n",
      " [1. 0. 0. 0.]\n",
      " [1. 0. 0. 0.]]\n",
      "\n",
      "y_train.shape:  (3613, 4)\n",
      "y_test.shape:  (347, 4)\n"
     ]
    }
   ],
   "source": [
    "import keras\n",
    "## deal with label (string -> one-hot)\n",
    "\n",
    "from sklearn.preprocessing import LabelEncoder\n",
    "\n",
    "label_encoder = LabelEncoder()\n",
    "label_encoder.fit(y_train)\n",
    "print('check label: ', label_encoder.classes_)\n",
    "print('\\n## Before convert')\n",
    "print('y_train[0:4]:\\n', y_train[0:4])\n",
    "print('\\ny_train.shape: ', y_train.shape)\n",
    "print('y_test.shape: ', y_test.shape)\n",
    "\n",
    "def label_encode(le, labels):\n",
    "    enc = le.transform(labels)\n",
    "    return keras.utils.to_categorical(enc)\n",
    "\n",
    "def label_decode(le, one_hot_label):\n",
    "    dec = np.argmax(one_hot_label, axis=1)\n",
    "    return le.inverse_transform(dec)\n",
    "\n",
    "y_train = label_encode(label_encoder, y_train)\n",
    "y_test = label_encode(label_encoder, y_test)\n",
    "\n",
    "print('\\n\\n## After convert')\n",
    "print('y_train[0:4]:\\n', y_train[0:4])\n",
    "print('\\ny_train.shape: ', y_train.shape)\n",
    "print('y_test.shape: ', y_test.shape)"
   ]
  },
  {
   "cell_type": "code",
   "execution_count": 18,
   "metadata": {},
   "outputs": [
    {
     "name": "stdout",
     "output_type": "stream",
     "text": [
      "input_shape:  500\n",
      "output_shape:  4\n",
      "Model: \"model_1\"\n",
      "_________________________________________________________________\n",
      "Layer (type)                 Output Shape              Param #   \n",
      "=================================================================\n",
      "input_1 (InputLayer)         (None, 500)               0         \n",
      "_________________________________________________________________\n",
      "dense_1 (Dense)              (None, 64)                32064     \n",
      "_________________________________________________________________\n",
      "re_lu_1 (ReLU)               (None, 64)                0         \n",
      "_________________________________________________________________\n",
      "dense_2 (Dense)              (None, 64)                4160      \n",
      "_________________________________________________________________\n",
      "re_lu_2 (ReLU)               (None, 64)                0         \n",
      "_________________________________________________________________\n",
      "dense_3 (Dense)              (None, 4)                 260       \n",
      "_________________________________________________________________\n",
      "softmax_1 (Softmax)          (None, 4)                 0         \n",
      "=================================================================\n",
      "Total params: 36,484\n",
      "Trainable params: 36,484\n",
      "Non-trainable params: 0\n",
      "_________________________________________________________________\n"
     ]
    }
   ],
   "source": [
    "# I/O check\n",
    "input_shape = X_train.shape[1]\n",
    "print('input_shape: ', input_shape)\n",
    "\n",
    "output_shape = len(label_encoder.classes_)\n",
    "print('output_shape: ', output_shape)\n",
    "\n",
    "from keras.models import Model\n",
    "from keras.layers import Input, Dense\n",
    "from keras.layers import ReLU, Softmax\n",
    "\n",
    "# input layer\n",
    "model_input = Input(shape=(input_shape, ))  # 500\n",
    "X = model_input\n",
    "\n",
    "# 1st hidden layer\n",
    "X_W1 = Dense(units=64)(X)  # 64\n",
    "H1 = ReLU()(X_W1)\n",
    "\n",
    "# 2nd hidden layer\n",
    "H1_W2 = Dense(units=64)(H1)  # 64\n",
    "H2 = ReLU()(H1_W2)\n",
    "\n",
    "# output layer\n",
    "H2_W3 = Dense(units=output_shape)(H2)  # 4\n",
    "H3 = Softmax()(H2_W3)\n",
    "\n",
    "model_output = H3\n",
    "\n",
    "# create model\n",
    "model = Model(inputs=[model_input], outputs=[model_output])\n",
    "\n",
    "# loss function & optimizer\n",
    "model.compile(optimizer='adam',\n",
    "              loss='categorical_crossentropy',\n",
    "              metrics=['accuracy'])\n",
    "\n",
    "# show model construction\n",
    "model.summary()"
   ]
  },
  {
   "cell_type": "code",
   "execution_count": 19,
   "metadata": {
    "scrolled": true
   },
   "outputs": [
    {
     "name": "stdout",
     "output_type": "stream",
     "text": [
      "WARNING:tensorflow:From C:\\Users\\acer\\.conda\\envs\\dataMining\\lib\\site-packages\\keras\\backend\\tensorflow_backend.py:422: The name tf.global_variables is deprecated. Please use tf.compat.v1.global_variables instead.\n",
      "\n",
      "Train on 3613 samples, validate on 347 samples\n",
      "Epoch 1/25\n",
      "3613/3613 [==============================] - 0s 74us/step - loss: 1.3166 - accuracy: 0.3772 - val_loss: 1.2831 - val_accuracy: 0.4265\n",
      "Epoch 2/25\n",
      "3613/3613 [==============================] - 0s 43us/step - loss: 0.9690 - accuracy: 0.6441 - val_loss: 0.9173 - val_accuracy: 0.6571\n",
      "Epoch 3/25\n",
      "3613/3613 [==============================] - 0s 39us/step - loss: 0.5710 - accuracy: 0.7977 - val_loss: 0.8051 - val_accuracy: 0.6830\n",
      "Epoch 4/25\n",
      "3613/3613 [==============================] - 0s 39us/step - loss: 0.4088 - accuracy: 0.8447 - val_loss: 0.8041 - val_accuracy: 0.6916\n",
      "Epoch 5/25\n",
      "3613/3613 [==============================] - 0s 40us/step - loss: 0.3221 - accuracy: 0.8857 - val_loss: 0.8231 - val_accuracy: 0.6859\n",
      "Epoch 6/25\n",
      "3613/3613 [==============================] - 0s 43us/step - loss: 0.2622 - accuracy: 0.9076 - val_loss: 0.8880 - val_accuracy: 0.7003\n",
      "Epoch 7/25\n",
      "3613/3613 [==============================] - 0s 40us/step - loss: 0.2213 - accuracy: 0.9272 - val_loss: 0.9172 - val_accuracy: 0.7003\n",
      "Epoch 8/25\n",
      "3613/3613 [==============================] - 0s 40us/step - loss: 0.1874 - accuracy: 0.9388 - val_loss: 0.9954 - val_accuracy: 0.6916\n",
      "Epoch 9/25\n",
      "3613/3613 [==============================] - 0s 44us/step - loss: 0.1627 - accuracy: 0.9480 - val_loss: 1.0333 - val_accuracy: 0.6686\n",
      "Epoch 10/25\n",
      "3613/3613 [==============================] - 0s 38us/step - loss: 0.1394 - accuracy: 0.9568 - val_loss: 1.0924 - val_accuracy: 0.6945\n",
      "Epoch 11/25\n",
      "3613/3613 [==============================] - 0s 38us/step - loss: 0.1256 - accuracy: 0.9632 - val_loss: 1.1350 - val_accuracy: 0.6888\n",
      "Epoch 12/25\n",
      "3613/3613 [==============================] - 0s 39us/step - loss: 0.1182 - accuracy: 0.9640 - val_loss: 1.2054 - val_accuracy: 0.6801\n",
      "Epoch 13/25\n",
      "3613/3613 [==============================] - 0s 39us/step - loss: 0.1011 - accuracy: 0.9720 - val_loss: 1.2406 - val_accuracy: 0.6715\n",
      "Epoch 14/25\n",
      "3613/3613 [==============================] - 0s 40us/step - loss: 0.1014 - accuracy: 0.9698 - val_loss: 1.2693 - val_accuracy: 0.6888\n",
      "Epoch 15/25\n",
      "3613/3613 [==============================] - 0s 39us/step - loss: 0.0931 - accuracy: 0.9712 - val_loss: 1.2984 - val_accuracy: 0.6686\n",
      "Epoch 16/25\n",
      "3613/3613 [==============================] - 0s 39us/step - loss: 0.0886 - accuracy: 0.9715 - val_loss: 1.3404 - val_accuracy: 0.6801\n",
      "Epoch 17/25\n",
      "3613/3613 [==============================] - 0s 39us/step - loss: 0.0833 - accuracy: 0.9740 - val_loss: 1.3592 - val_accuracy: 0.6859\n",
      "Epoch 18/25\n",
      "3613/3613 [==============================] - 0s 39us/step - loss: 0.0805 - accuracy: 0.9745 - val_loss: 1.3890 - val_accuracy: 0.6657\n",
      "Epoch 19/25\n",
      "3613/3613 [==============================] - 0s 39us/step - loss: 0.0801 - accuracy: 0.9740 - val_loss: 1.4121 - val_accuracy: 0.6859\n",
      "Epoch 20/25\n",
      "3613/3613 [==============================] - 0s 39us/step - loss: 0.0750 - accuracy: 0.9751 - val_loss: 1.4799 - val_accuracy: 0.6686\n",
      "Epoch 21/25\n",
      "3613/3613 [==============================] - 0s 39us/step - loss: 0.0740 - accuracy: 0.9770 - val_loss: 1.4690 - val_accuracy: 0.6830\n",
      "Epoch 22/25\n",
      "3613/3613 [==============================] - 0s 39us/step - loss: 0.0741 - accuracy: 0.9743 - val_loss: 1.4824 - val_accuracy: 0.6715\n",
      "Epoch 23/25\n",
      "3613/3613 [==============================] - 0s 39us/step - loss: 0.0718 - accuracy: 0.9770 - val_loss: 1.5085 - val_accuracy: 0.6772\n",
      "Epoch 24/25\n",
      "3613/3613 [==============================] - 0s 39us/step - loss: 0.0633 - accuracy: 0.9765 - val_loss: 1.5785 - val_accuracy: 0.6542\n",
      "Epoch 25/25\n",
      "3613/3613 [==============================] - 0s 38us/step - loss: 0.0683 - accuracy: 0.9762 - val_loss: 1.5521 - val_accuracy: 0.6772\n",
      "training finish\n"
     ]
    }
   ],
   "source": [
    "from keras.callbacks import CSVLogger\n",
    "\n",
    "csv_logger = CSVLogger('logs/training_log.csv')\n",
    "\n",
    "# training setting\n",
    "epochs = 25\n",
    "batch_size = 32\n",
    "\n",
    "# training!\n",
    "history = model.fit(X_train, y_train, \n",
    "                    epochs=epochs, \n",
    "                    batch_size=batch_size, \n",
    "                    callbacks=[csv_logger],\n",
    "                    validation_data = (X_test, y_test))\n",
    "print('training finish')"
   ]
  },
  {
   "cell_type": "code",
   "execution_count": 20,
   "metadata": {},
   "outputs": [
    {
     "name": "stdout",
     "output_type": "stream",
     "text": [
      "testing accuracy: 0.68\n"
     ]
    }
   ],
   "source": [
    "from sklearn.metrics import accuracy_score\n",
    "pred_result = model.predict(X_test, batch_size=128)\n",
    "pred_result = label_decode(label_encoder, pred_result)\n",
    "print('testing accuracy: {}'.format(round(accuracy_score(label_decode(label_encoder, y_test), pred_result), 2)))"
   ]
  },
  {
   "cell_type": "code",
   "execution_count": 21,
   "metadata": {},
   "outputs": [
    {
     "data": {
      "text/html": [
       "<div>\n",
       "<style scoped>\n",
       "    .dataframe tbody tr th:only-of-type {\n",
       "        vertical-align: middle;\n",
       "    }\n",
       "\n",
       "    .dataframe tbody tr th {\n",
       "        vertical-align: top;\n",
       "    }\n",
       "\n",
       "    .dataframe thead th {\n",
       "        text-align: right;\n",
       "    }\n",
       "</style>\n",
       "<table border=\"1\" class=\"dataframe\">\n",
       "  <thead>\n",
       "    <tr style=\"text-align: right;\">\n",
       "      <th></th>\n",
       "      <th>epoch</th>\n",
       "      <th>accuracy</th>\n",
       "      <th>loss</th>\n",
       "      <th>val_accuracy</th>\n",
       "      <th>val_loss</th>\n",
       "    </tr>\n",
       "  </thead>\n",
       "  <tbody>\n",
       "    <tr>\n",
       "      <th>0</th>\n",
       "      <td>0</td>\n",
       "      <td>0.377249</td>\n",
       "      <td>1.316557</td>\n",
       "      <td>0.426513</td>\n",
       "      <td>1.283059</td>\n",
       "    </tr>\n",
       "    <tr>\n",
       "      <th>1</th>\n",
       "      <td>1</td>\n",
       "      <td>0.644063</td>\n",
       "      <td>0.969025</td>\n",
       "      <td>0.657061</td>\n",
       "      <td>0.917308</td>\n",
       "    </tr>\n",
       "    <tr>\n",
       "      <th>2</th>\n",
       "      <td>2</td>\n",
       "      <td>0.797675</td>\n",
       "      <td>0.570980</td>\n",
       "      <td>0.682997</td>\n",
       "      <td>0.805103</td>\n",
       "    </tr>\n",
       "    <tr>\n",
       "      <th>3</th>\n",
       "      <td>3</td>\n",
       "      <td>0.844727</td>\n",
       "      <td>0.408768</td>\n",
       "      <td>0.691643</td>\n",
       "      <td>0.804108</td>\n",
       "    </tr>\n",
       "    <tr>\n",
       "      <th>4</th>\n",
       "      <td>4</td>\n",
       "      <td>0.885691</td>\n",
       "      <td>0.322119</td>\n",
       "      <td>0.685879</td>\n",
       "      <td>0.823139</td>\n",
       "    </tr>\n",
       "    <tr>\n",
       "      <th>5</th>\n",
       "      <td>5</td>\n",
       "      <td>0.907556</td>\n",
       "      <td>0.262197</td>\n",
       "      <td>0.700288</td>\n",
       "      <td>0.887973</td>\n",
       "    </tr>\n",
       "    <tr>\n",
       "      <th>6</th>\n",
       "      <td>6</td>\n",
       "      <td>0.927207</td>\n",
       "      <td>0.221283</td>\n",
       "      <td>0.700288</td>\n",
       "      <td>0.917164</td>\n",
       "    </tr>\n",
       "    <tr>\n",
       "      <th>7</th>\n",
       "      <td>7</td>\n",
       "      <td>0.938832</td>\n",
       "      <td>0.187392</td>\n",
       "      <td>0.691643</td>\n",
       "      <td>0.995397</td>\n",
       "    </tr>\n",
       "    <tr>\n",
       "      <th>8</th>\n",
       "      <td>8</td>\n",
       "      <td>0.947966</td>\n",
       "      <td>0.162722</td>\n",
       "      <td>0.668588</td>\n",
       "      <td>1.033267</td>\n",
       "    </tr>\n",
       "    <tr>\n",
       "      <th>9</th>\n",
       "      <td>9</td>\n",
       "      <td>0.956823</td>\n",
       "      <td>0.139391</td>\n",
       "      <td>0.694524</td>\n",
       "      <td>1.092422</td>\n",
       "    </tr>\n",
       "    <tr>\n",
       "      <th>10</th>\n",
       "      <td>10</td>\n",
       "      <td>0.963188</td>\n",
       "      <td>0.125572</td>\n",
       "      <td>0.688761</td>\n",
       "      <td>1.135016</td>\n",
       "    </tr>\n",
       "    <tr>\n",
       "      <th>11</th>\n",
       "      <td>11</td>\n",
       "      <td>0.964019</td>\n",
       "      <td>0.118209</td>\n",
       "      <td>0.680115</td>\n",
       "      <td>1.205387</td>\n",
       "    </tr>\n",
       "    <tr>\n",
       "      <th>12</th>\n",
       "      <td>12</td>\n",
       "      <td>0.972045</td>\n",
       "      <td>0.101140</td>\n",
       "      <td>0.671470</td>\n",
       "      <td>1.240555</td>\n",
       "    </tr>\n",
       "    <tr>\n",
       "      <th>13</th>\n",
       "      <td>13</td>\n",
       "      <td>0.969831</td>\n",
       "      <td>0.101444</td>\n",
       "      <td>0.688761</td>\n",
       "      <td>1.269257</td>\n",
       "    </tr>\n",
       "    <tr>\n",
       "      <th>14</th>\n",
       "      <td>14</td>\n",
       "      <td>0.971215</td>\n",
       "      <td>0.093056</td>\n",
       "      <td>0.668588</td>\n",
       "      <td>1.298389</td>\n",
       "    </tr>\n",
       "    <tr>\n",
       "      <th>15</th>\n",
       "      <td>15</td>\n",
       "      <td>0.971492</td>\n",
       "      <td>0.088588</td>\n",
       "      <td>0.680115</td>\n",
       "      <td>1.340417</td>\n",
       "    </tr>\n",
       "    <tr>\n",
       "      <th>16</th>\n",
       "      <td>16</td>\n",
       "      <td>0.973983</td>\n",
       "      <td>0.083343</td>\n",
       "      <td>0.685879</td>\n",
       "      <td>1.359183</td>\n",
       "    </tr>\n",
       "    <tr>\n",
       "      <th>17</th>\n",
       "      <td>17</td>\n",
       "      <td>0.974536</td>\n",
       "      <td>0.080513</td>\n",
       "      <td>0.665706</td>\n",
       "      <td>1.388999</td>\n",
       "    </tr>\n",
       "    <tr>\n",
       "      <th>18</th>\n",
       "      <td>18</td>\n",
       "      <td>0.973983</td>\n",
       "      <td>0.080140</td>\n",
       "      <td>0.685879</td>\n",
       "      <td>1.412078</td>\n",
       "    </tr>\n",
       "    <tr>\n",
       "      <th>19</th>\n",
       "      <td>19</td>\n",
       "      <td>0.975090</td>\n",
       "      <td>0.075000</td>\n",
       "      <td>0.668588</td>\n",
       "      <td>1.479874</td>\n",
       "    </tr>\n",
       "    <tr>\n",
       "      <th>20</th>\n",
       "      <td>20</td>\n",
       "      <td>0.977027</td>\n",
       "      <td>0.074005</td>\n",
       "      <td>0.682997</td>\n",
       "      <td>1.468961</td>\n",
       "    </tr>\n",
       "    <tr>\n",
       "      <th>21</th>\n",
       "      <td>21</td>\n",
       "      <td>0.974260</td>\n",
       "      <td>0.074116</td>\n",
       "      <td>0.671470</td>\n",
       "      <td>1.482407</td>\n",
       "    </tr>\n",
       "    <tr>\n",
       "      <th>22</th>\n",
       "      <td>22</td>\n",
       "      <td>0.977027</td>\n",
       "      <td>0.071756</td>\n",
       "      <td>0.677233</td>\n",
       "      <td>1.508464</td>\n",
       "    </tr>\n",
       "    <tr>\n",
       "      <th>23</th>\n",
       "      <td>23</td>\n",
       "      <td>0.976474</td>\n",
       "      <td>0.063295</td>\n",
       "      <td>0.654179</td>\n",
       "      <td>1.578459</td>\n",
       "    </tr>\n",
       "    <tr>\n",
       "      <th>24</th>\n",
       "      <td>24</td>\n",
       "      <td>0.976197</td>\n",
       "      <td>0.068328</td>\n",
       "      <td>0.677233</td>\n",
       "      <td>1.552062</td>\n",
       "    </tr>\n",
       "  </tbody>\n",
       "</table>\n",
       "</div>"
      ],
      "text/plain": [
       "    epoch  accuracy      loss  val_accuracy  val_loss\n",
       "0       0  0.377249  1.316557      0.426513  1.283059\n",
       "1       1  0.644063  0.969025      0.657061  0.917308\n",
       "2       2  0.797675  0.570980      0.682997  0.805103\n",
       "3       3  0.844727  0.408768      0.691643  0.804108\n",
       "4       4  0.885691  0.322119      0.685879  0.823139\n",
       "5       5  0.907556  0.262197      0.700288  0.887973\n",
       "6       6  0.927207  0.221283      0.700288  0.917164\n",
       "7       7  0.938832  0.187392      0.691643  0.995397\n",
       "8       8  0.947966  0.162722      0.668588  1.033267\n",
       "9       9  0.956823  0.139391      0.694524  1.092422\n",
       "10     10  0.963188  0.125572      0.688761  1.135016\n",
       "11     11  0.964019  0.118209      0.680115  1.205387\n",
       "12     12  0.972045  0.101140      0.671470  1.240555\n",
       "13     13  0.969831  0.101444      0.688761  1.269257\n",
       "14     14  0.971215  0.093056      0.668588  1.298389\n",
       "15     15  0.971492  0.088588      0.680115  1.340417\n",
       "16     16  0.973983  0.083343      0.685879  1.359183\n",
       "17     17  0.974536  0.080513      0.665706  1.388999\n",
       "18     18  0.973983  0.080140      0.685879  1.412078\n",
       "19     19  0.975090  0.075000      0.668588  1.479874\n",
       "20     20  0.977027  0.074005      0.682997  1.468961\n",
       "21     21  0.974260  0.074116      0.671470  1.482407\n",
       "22     22  0.977027  0.071756      0.677233  1.508464\n",
       "23     23  0.976474  0.063295      0.654179  1.578459\n",
       "24     24  0.976197  0.068328      0.677233  1.552062"
      ]
     },
     "execution_count": 21,
     "metadata": {},
     "output_type": "execute_result"
    }
   ],
   "source": [
    "#Let's take a look at the training log\n",
    "training_log = pd.DataFrame()\n",
    "training_log = pd.read_csv(\"logs/training_log.csv\")\n",
    "training_log"
   ]
  },
  {
   "cell_type": "markdown",
   "metadata": {},
   "source": [
    "---\n",
    "### ** >>> Exercise 6 (Take home): **  \n",
    "\n",
    "Plot the Training and Validation Accuracy and Loss (different plots), just like the images below (Note: the pictures below are an example from a different model). How to interpret the graphs you got? How are they related to the concept of overfitting/underfitting covered in class?\n",
    "<table><tr>\n",
    "    <td><img src=\"pics/pic3.png\" style=\"width: 300px;\"/> </td>\n",
    "    <td><img src=\"pics/pic4.png\" style=\"width: 300px;\"/> </td>\n",
    "</tr></table>"
   ]
  },
  {
   "cell_type": "code",
   "execution_count": 22,
   "metadata": {},
   "outputs": [
    {
     "data": {
      "text/plain": [
       "<matplotlib.axes._subplots.AxesSubplot at 0x19b71095cf8>"
      ]
     },
     "execution_count": 22,
     "metadata": {},
     "output_type": "execute_result"
    },
    {
     "data": {
      "image/png": "[encoded data removed]",
      "text/plain": [
       "<Figure size 432x288 with 1 Axes>"
      ]
     },
     "metadata": {
      "needs_background": "light"
     },
     "output_type": "display_data"
    }
   ],
   "source": [
    "plot_acc_df = pd.DataFrame({'Train accuracy': training_log.accuracy.values,\n",
    "                     'Val accuracy': training_log.val_accuracy.values},\n",
    "                    index = training_log.epoch.values)\n",
    "plot_acc_df.plot.line(title='Training Accuracy per epoch')"
   ]
  },
  {
   "cell_type": "code",
   "execution_count": 23,
   "metadata": {},
   "outputs": [
    {
     "data": {
      "text/plain": [
       "<matplotlib.axes._subplots.AxesSubplot at 0x19b71123fd0>"
      ]
     },
     "execution_count": 23,
     "metadata": {},
     "output_type": "execute_result"
    },
    {
     "data": {
      "image/png": "[encoded data removed]",
      "text/plain": [
       "<Figure size 432x288 with 1 Axes>"
      ]
     },
     "metadata": {
      "needs_background": "light"
     },
     "output_type": "display_data"
    }
   ],
   "source": [
    "plot_loss_df = pd.DataFrame({'Train loss': training_log.loss.values,\n",
    "                             'Val loss': training_log.val_loss.values},\n",
    "                    index = training_log.epoch.values)\n",
    "plot_loss_df.plot.line(title='Training Loss per epoch')"
   ]
  },
  {
   "cell_type": "markdown",
   "metadata": {},
   "source": [
    "As we can see in the figures, the loss of validation lowers at first, but rises soon after.  In the same time, the accuracy and loss of the training dataset look well, so the model is overfitting.  "
   ]
  },
  {
   "cell_type": "markdown",
   "metadata": {},
   "source": [
    "### ** >>> End Exercise 6 (Take home): **  "
   ]
  },
  {
   "cell_type": "code",
   "execution_count": 24,
   "metadata": {},
   "outputs": [],
   "source": [
    "## check library\n",
    "import gensim\n",
    "\n",
    "## ignore warnings\n",
    "import warnings\n",
    "warnings.filterwarnings('ignore')\n",
    "\n",
    "## the input type\n",
    "train_df['text_tokenized'] = train_df['text'].apply(lambda x: nltk.word_tokenize(x))\n",
    "training_corpus = train_df['text_tokenized'].values\n",
    "\n",
    "from gensim.models import Word2Vec\n",
    "\n",
    "## setting\n",
    "vector_dim = 100\n",
    "window_size = 5\n",
    "min_count = 1\n",
    "training_iter = 20\n",
    "\n",
    "## model\n",
    "word2vec_model = Word2Vec(sentences=training_corpus, \n",
    "                          vector_size=vector_dim, window=window_size, \n",
    "                          min_count=min_count, epochs=training_iter)"
   ]
  },
  {
   "cell_type": "code",
   "execution_count": 25,
   "metadata": {},
   "outputs": [
    {
     "data": {
      "text/plain": [
       "array([ 4.6536055e-01, -2.4154496e-03, -8.8654153e-02,  2.7437314e-01,\n",
       "       -3.4191850e-01, -1.0205706e+00,  8.8175428e-01,  1.4077996e+00,\n",
       "       -6.6568124e-01, -6.2807637e-01, -7.7094668e-01, -8.3008099e-01,\n",
       "       -3.2629737e-01,  3.5364637e-01, -9.0479136e-02, -3.8954550e-01,\n",
       "       -1.5610774e-01, -3.5766178e-01,  3.1542152e-01, -1.1229662e+00,\n",
       "        4.4188049e-01,  9.1524309e-01,  5.3619021e-01,  3.7874934e-01,\n",
       "        1.8393548e-01, -1.9937615e-01, -3.9809877e-01,  4.6356353e-01,\n",
       "       -2.1908176e-01,  2.9773307e-01,  4.0112033e-01, -1.1205636e-01,\n",
       "        3.9501262e-01, -2.2676364e-01, -9.8338231e-02,  7.1489549e-01,\n",
       "        2.9359242e-01, -1.3650869e-01, -6.5662163e-01, -6.5870506e-01,\n",
       "        5.5623895e-01,  2.1348685e-02, -3.2419074e-01,  3.2680115e-01,\n",
       "        7.1716493e-01, -2.9436713e-01, -6.8115461e-01, -2.2825634e-01,\n",
       "        6.7423999e-01, -8.8322180e-04, -1.2948644e-01, -1.1163142e-02,\n",
       "        5.5747643e-02, -3.8505185e-01, -1.4466360e-01, -4.0083727e-01,\n",
       "        2.9428351e-01,  1.3974363e-01, -4.3166289e-01, -1.0470940e-01,\n",
       "       -1.2604745e-01, -5.3300060e-02,  4.9232012e-01,  1.7191023e-01,\n",
       "       -5.8871931e-01,  7.1461505e-01,  3.3330193e-01,  5.0139582e-01,\n",
       "       -1.3799303e+00,  6.7659432e-01, -1.4431663e-01, -4.0677063e-02,\n",
       "        4.6747312e-01, -5.5773348e-01,  4.6395272e-01,  5.6168567e-02,\n",
       "        6.8935311e-01,  1.5484950e-01, -3.0071136e-01,  2.6045823e-01,\n",
       "       -6.4975578e-01, -3.3552101e-01, -3.7816885e-01,  1.1249069e+00,\n",
       "       -4.7758120e-01, -3.1925410e-01,  5.1523936e-01,  3.1758529e-01,\n",
       "       -2.0568693e-01,  2.6531309e-01,  6.6889477e-01,  2.9682317e-01,\n",
       "        3.5184611e-02,  4.1949588e-01,  9.8435867e-01, -6.8802053e-01,\n",
       "        2.2974810e-01,  8.0567956e-02,  7.2547477e-01,  3.2337186e-01],\n",
       "      dtype=float32)"
      ]
     },
     "execution_count": 25,
     "metadata": {},
     "output_type": "execute_result"
    }
   ],
   "source": [
    "# get the corresponding vector of a word\n",
    "word_vec = word2vec_model.wv['happy']\n",
    "word_vec"
   ]
  },
  {
   "cell_type": "markdown",
   "metadata": {},
   "source": [
    "---\n",
    "### ** >>> Exercise 7 (Take home): **  \n",
    "\n",
    "Now, we have the word vectors, but our input data is a sequence of words (or say sentence). \n",
    "How can we utilize these \"word\" vectors to represent the sentence data and train our model?\n"
   ]
  },
  {
   "cell_type": "markdown",
   "metadata": {},
   "source": [
    "We can pad the sequence of words to the same length, then cancate the vectorized words to make the whole sequence vectorized.  "
   ]
  },
  {
   "cell_type": "code",
   "execution_count": 26,
   "metadata": {},
   "outputs": [
    {
     "name": "stdout",
     "output_type": "stream",
     "text": [
      "Max length: 47\n",
      "Mean length: 20.057293108220314\n"
     ]
    }
   ],
   "source": [
    "doc_len = train_df['text_tokenized'].apply(lambda x: len(x))\n",
    "print('Max length: {}'.format(max(doc_len.values)))\n",
    "print('Mean length: {}'.format(np.mean(doc_len.values)))"
   ]
  },
  {
   "cell_type": "markdown",
   "metadata": {},
   "source": [
    "As above, we can pad the vectorized sequence length to $47\\times 100$(vector dim)$=4700$, while those padded place are all zeros.  "
   ]
  },
  {
   "cell_type": "markdown",
   "metadata": {},
   "source": [
    "### ** >>> End Exercise 7 (Take home): **  "
   ]
  },
  {
   "cell_type": "code",
   "execution_count": 27,
   "metadata": {},
   "outputs": [
    {
     "name": "stdout",
     "output_type": "stream",
     "text": [
      "load ok\n"
     ]
    }
   ],
   "source": [
    "from gensim.models import KeyedVectors\n",
    "\n",
    "## Note: this model is very huge, this will take some time ...\n",
    "model_path = \"GoogleNews/GoogleNews-vectors-negative300.bin.gz\"\n",
    "w2v_google_model = KeyedVectors.load_word2vec_format(model_path, binary=True)\n",
    "print('load ok')\n"
   ]
  },
  {
   "cell_type": "code",
   "execution_count": 28,
   "metadata": {
    "scrolled": true
   },
   "outputs": [
    {
     "data": {
      "text/plain": [
       "[('glad', 0.7408890724182129),\n",
       " ('pleased', 0.6632170677185059),\n",
       " ('ecstatic', 0.6626912355422974),\n",
       " ('overjoyed', 0.6599286794662476),\n",
       " ('thrilled', 0.6514049172401428),\n",
       " ('satisfied', 0.6437949538230896),\n",
       " ('proud', 0.636042058467865),\n",
       " ('delighted', 0.627237856388092),\n",
       " ('disappointed', 0.6269949674606323),\n",
       " ('excited', 0.6247665286064148)]"
      ]
     },
     "execution_count": 28,
     "metadata": {},
     "output_type": "execute_result"
    }
   ],
   "source": [
    "w2v_google_model.most_similar('happy', topn=10)"
   ]
  },
  {
   "cell_type": "markdown",
   "metadata": {},
   "source": [
    "---\n",
    "### ** >>> Exercise 8 (Take home): **  \n",
    "\n",
    "Generate a t-SNE visualization to show the 15 words most related to the words \"angry\", \"happy\", \"sad\", \"fear\" (60 words total)."
   ]
  },
  {
   "cell_type": "code",
   "execution_count": 29,
   "metadata": {},
   "outputs": [
    {
     "name": "stdout",
     "output_type": "stream",
     "text": [
      "happy_words:  ['happy', 'glad', 'pleased', 'ecstatic', 'overjoyed', 'thrilled', 'satisfied', 'proud', 'delighted', 'disappointed', 'excited', 'happier', 'Said_Hirschbeck', 'elated', 'thankful', 'unhappy']\n",
      "angry_words:  ['angry', 'irate', 'enraged', 'indignant', 'incensed', 'annoyed', 'agitated', 'frustrated', 'furious', 'unhappy', 'outraged', 'livid', 'irritated', 'exasperated', 'angrier', 'Angry']\n",
      "sad_words:  ['sad', 'saddening', 'Sad', 'saddened', 'heartbreaking', 'disheartening', 'Meny_Friedman', 'parishioner_Pat_Patello', 'saddens_me', 'distressing', 'reminders_bobbing', 'Turkoman_Shiites', 'saddest', 'unfortunate', 'sorry', 'bittersweet']\n",
      "fear_words:  ['fear', 'fearful', 'fears', 'Fear', 'fearing', 'worry', 'dread', 'feared', 'anxiety', 'apprehension', 'afraid', 'worries', 'concern', 'distrust', 'worried', 'Fearful']\n",
      "\n",
      "target words: \n",
      "['happy', 'glad', 'pleased', 'ecstatic', 'overjoyed', 'thrilled', 'satisfied', 'proud', 'delighted', 'disappointed', 'excited', 'happier', 'Said_Hirschbeck', 'elated', 'thankful', 'unhappy', 'angry', 'irate', 'enraged', 'indignant', 'incensed', 'annoyed', 'agitated', 'frustrated', 'furious', 'unhappy', 'outraged', 'livid', 'irritated', 'exasperated', 'angrier', 'Angry', 'sad', 'saddening', 'Sad', 'saddened', 'heartbreaking', 'disheartening', 'Meny_Friedman', 'parishioner_Pat_Patello', 'saddens_me', 'distressing', 'reminders_bobbing', 'Turkoman_Shiites', 'saddest', 'unfortunate', 'sorry', 'bittersweet', 'fear', 'fearful', 'fears', 'Fear', 'fearing', 'worry', 'dread', 'feared', 'anxiety', 'apprehension', 'afraid', 'worries', 'concern', 'distrust', 'worried', 'Fearful']\n",
      "\n",
      "color list:\n",
      "['b', 'b', 'b', 'b', 'b', 'b', 'b', 'b', 'b', 'b', 'b', 'b', 'b', 'b', 'b', 'b', 'g', 'g', 'g', 'g', 'g', 'g', 'g', 'g', 'g', 'g', 'g', 'g', 'g', 'g', 'g', 'g', 'r', 'r', 'r', 'r', 'r', 'r', 'r', 'r', 'r', 'r', 'r', 'r', 'r', 'r', 'r', 'r', 'y', 'y', 'y', 'y', 'y', 'y', 'y', 'y', 'y', 'y', 'y', 'y', 'y', 'y', 'y', 'y']\n"
     ]
    }
   ],
   "source": [
    "word_list = ['happy', 'angry', 'data', 'mining']\n",
    "\n",
    "topn = 15\n",
    "happy_words = ['happy'] + [word_ for word_, sim_ in w2v_google_model.most_similar('happy', topn=topn)]\n",
    "angry_words = ['angry'] + [word_ for word_, sim_ in w2v_google_model.most_similar('angry', topn=topn)]        \n",
    "sad_words = ['sad'] + [word_ for word_, sim_ in w2v_google_model.most_similar('sad', topn=topn)]        \n",
    "fear_words = ['fear'] + [word_ for word_, sim_ in w2v_google_model.most_similar('fear', topn=topn)]        \n",
    "\n",
    "print('happy_words: ', happy_words)\n",
    "print('angry_words: ', angry_words)\n",
    "print('sad_words: ', sad_words)\n",
    "print('fear_words: ', fear_words)\n",
    "\n",
    "target_words = happy_words + angry_words + sad_words + fear_words\n",
    "print('\\ntarget words: ')\n",
    "print(target_words)\n",
    "\n",
    "print('\\ncolor list:')\n",
    "cn = topn + 1\n",
    "color = ['b'] * cn + ['g'] * cn + ['r'] * cn + ['y'] * cn\n",
    "print(color)"
   ]
  },
  {
   "cell_type": "code",
   "execution_count": 30,
   "metadata": {
    "scrolled": true
   },
   "outputs": [
    {
     "data": {
      "image/png": "[encoded data removed]",
      "text/plain": [
       "<Figure size 862.5x862.5 with 1 Axes>"
      ]
     },
     "metadata": {
      "needs_background": "light"
     },
     "output_type": "display_data"
    }
   ],
   "source": [
    "%matplotlib inline\n",
    "import matplotlib.pyplot as plt\n",
    "from sklearn.manifold import TSNE\n",
    "\n",
    "## w2v model\n",
    "model = w2v_google_model\n",
    "\n",
    "## prepare training word vectors\n",
    "size = 200\n",
    "target_size = len(target_words)\n",
    "all_word = model.index_to_key\n",
    "word_train = target_words + all_word[:size]\n",
    "X_train = model[word_train]\n",
    "\n",
    "## t-SNE model\n",
    "tsne = TSNE(n_components=2, metric='cosine', random_state=28)\n",
    "\n",
    "## training\n",
    "X_tsne = tsne.fit_transform(X_train)\n",
    "\n",
    "## plot the result\n",
    "plt.figure(figsize=(7.5, 7.5), dpi=115)\n",
    "plt.scatter(X_tsne[:target_size, 0], X_tsne[:target_size, 1], c=color)\n",
    "for label, x, y in zip(target_words, X_tsne[:target_size, 0], X_tsne[:target_size, 1]):\n",
    "    plt.annotate(label, xy=(x,y), xytext=(0,0),  textcoords='offset points')\n",
    "plt.show()"
   ]
  },
  {
   "cell_type": "markdown",
   "metadata": {},
   "source": [
    "### ** >>> End Exercise 8 (Take home): **  "
   ]
  },
  {
   "cell_type": "markdown",
   "metadata": {},
   "source": [
    "## Kaggle Competition"
   ]
  },
  {
   "cell_type": "code",
   "execution_count": 31,
   "metadata": {},
   "outputs": [],
   "source": [
    "import numpy as np\n",
    "import pandas as pd\n",
    "import json\n",
    "from sklearn.model_selection import train_test_split\n",
    "from sklearn.metrics import classification_report\n",
    "from sklearn.ensemble import RandomForestClassifier\n",
    "from sklearn.naive_bayes import MultinomialNB, CategoricalNB, GaussianNB, BernoulliNB\n",
    "from sklearn.feature_extraction.text import CountVectorizer, TfidfVectorizer\n",
    "from sklearn.preprocessing import LabelEncoder\n",
    "import keras\n",
    "from keras.models import Model\n",
    "from keras.layers import Input, Dense\n",
    "from keras.layers import ReLU, Softmax\n",
    "from keras.callbacks import CSVLogger\n",
    "import nltk\n",
    "import re\n",
    "import string\n",
    "import joblib\n",
    "import tensorflow as tf\n",
    "sess = tf.Session(config=tf.ConfigProto(log_device_placement=True))"
   ]
  },
  {
   "cell_type": "markdown",
   "metadata": {},
   "source": [
    "load data"
   ]
  },
  {
   "cell_type": "code",
   "execution_count": 34,
   "metadata": {},
   "outputs": [],
   "source": [
    "emotion = pd.read_csv('./kaggle/emotion.csv')\n",
    "data_id = pd.read_csv('./kaggle/data_identification.csv')"
   ]
  },
  {
   "cell_type": "code",
   "execution_count": 35,
   "metadata": {},
   "outputs": [],
   "source": [
    "path = './kaggle/tweets_DM.json'"
   ]
  },
  {
   "cell_type": "code",
   "execution_count": 36,
   "metadata": {},
   "outputs": [],
   "source": [
    "f = open(path, 'r', encoding='utf-8')\n",
    "data=[]\n",
    "for line in f.readlines():\n",
    "    dic = json.loads(line)\n",
    "    data.append(dic)"
   ]
  },
  {
   "cell_type": "code",
   "execution_count": 37,
   "metadata": {},
   "outputs": [
    {
     "data": {
      "text/plain": [
       "1867535"
      ]
     },
     "execution_count": 37,
     "metadata": {},
     "output_type": "execute_result"
    }
   ],
   "source": [
    "len(data)"
   ]
  },
  {
   "cell_type": "markdown",
   "metadata": {},
   "source": [
    "Take a look at one sample, the useful data may be `score`, `hashtags`, `tweet_id`, and `text`"
   ]
  },
  {
   "cell_type": "code",
   "execution_count": 38,
   "metadata": {},
   "outputs": [
    {
     "data": {
      "text/plain": [
       "{'_score': 376,\n",
       " '_index': 'hashtag_tweets',\n",
       " '_source': {'tweet': {'hashtags': [],\n",
       "   'tweet_id': '0x1cd5b0',\n",
       "   'text': 'Now ISSA is stalking Tasha 😂😂😂 <LH>'}},\n",
       " '_crawldate': '2016-01-24 23:53:05',\n",
       " '_type': 'tweets'}"
      ]
     },
     "execution_count": 38,
     "metadata": {},
     "output_type": "execute_result"
    }
   ],
   "source": [
    "data[3]"
   ]
  },
  {
   "cell_type": "code",
   "execution_count": 39,
   "metadata": {},
   "outputs": [],
   "source": [
    "score = []\n",
    "hashtags = []\n",
    "tweet_id = []\n",
    "text = []\n",
    "crawldate = []\n",
    "\n",
    "for d in data:\n",
    "    score.append(d['_score'])\n",
    "    hashtags.append(d['_source']['tweet']['hashtags'])\n",
    "    tweet_id.append(d['_source']['tweet']['tweet_id'])\n",
    "    text.append(d['_source']['tweet']['text'])\n",
    "    crawldate.append(d['_crawldate'])"
   ]
  },
  {
   "cell_type": "markdown",
   "metadata": {},
   "source": [
    "Make the list of hashtags to become a sentence to be tokenized.  I also do something on the word like \"LaughOutLoud\" should be seperated as \"Laugh Out Loud\""
   ]
  },
  {
   "cell_type": "code",
   "execution_count": 41,
   "metadata": {},
   "outputs": [],
   "source": [
    "hashtags_str = []\n",
    "for h in hashtags:\n",
    "    h_ = ' '.join(h)\n",
    "    h_ = re.sub(r'(?<![A-Z\\W])(?=[A-Z])', ' ', h_)\n",
    "    hashtags_str.append(h_)"
   ]
  },
  {
   "cell_type": "markdown",
   "metadata": {},
   "source": [
    "Do the same thing so text data"
   ]
  },
  {
   "cell_type": "code",
   "execution_count": 43,
   "metadata": {},
   "outputs": [],
   "source": [
    "text_str = []\n",
    "for t in text:\n",
    "    t_ = t.replace('<LH>', '')\n",
    "    t_ = t_.translate(str.maketrans('', '', string.punctuation))\n",
    "    t_ = re.sub(r'(?<![A-Z\\W])(?=[A-Z])', ' ', t_)\n",
    "    text_str.append(t_)"
   ]
  },
  {
   "cell_type": "code",
   "execution_count": 44,
   "metadata": {},
   "outputs": [
    {
     "data": {
      "text/html": [
       "<div>\n",
       "<style scoped>\n",
       "    .dataframe tbody tr th:only-of-type {\n",
       "        vertical-align: middle;\n",
       "    }\n",
       "\n",
       "    .dataframe tbody tr th {\n",
       "        vertical-align: top;\n",
       "    }\n",
       "\n",
       "    .dataframe thead th {\n",
       "        text-align: right;\n",
       "    }\n",
       "</style>\n",
       "<table border=\"1\" class=\"dataframe\">\n",
       "  <thead>\n",
       "    <tr style=\"text-align: right;\">\n",
       "      <th></th>\n",
       "      <th>tweet_id</th>\n",
       "      <th>score</th>\n",
       "      <th>hashtags</th>\n",
       "      <th>text</th>\n",
       "      <th>crawldate</th>\n",
       "    </tr>\n",
       "  </thead>\n",
       "  <tbody>\n",
       "    <tr>\n",
       "      <th>0</th>\n",
       "      <td>0x376b20</td>\n",
       "      <td>391</td>\n",
       "      <td>Snapchat</td>\n",
       "      <td>People who post add me on Snapchat must be de...</td>\n",
       "      <td>2015-05-23 11:42:47</td>\n",
       "    </tr>\n",
       "    <tr>\n",
       "      <th>1</th>\n",
       "      <td>0x2d5350</td>\n",
       "      <td>433</td>\n",
       "      <td>freepress Trump Legacy CNN</td>\n",
       "      <td>brianklaas As we see Trump is dangerous to fre...</td>\n",
       "      <td>2016-01-28 04:52:09</td>\n",
       "    </tr>\n",
       "    <tr>\n",
       "      <th>2</th>\n",
       "      <td>0x28b412</td>\n",
       "      <td>232</td>\n",
       "      <td>bibleverse</td>\n",
       "      <td>Confident of your obedience I write to you kn...</td>\n",
       "      <td>2017-12-25 04:39:20</td>\n",
       "    </tr>\n",
       "    <tr>\n",
       "      <th>3</th>\n",
       "      <td>0x1cd5b0</td>\n",
       "      <td>376</td>\n",
       "      <td></td>\n",
       "      <td>Now ISSA is stalking Tasha 😂😂😂</td>\n",
       "      <td>2016-01-24 23:53:05</td>\n",
       "    </tr>\n",
       "    <tr>\n",
       "      <th>4</th>\n",
       "      <td>0x2de201</td>\n",
       "      <td>989</td>\n",
       "      <td></td>\n",
       "      <td>Trust is not the same as faith A friend is so...</td>\n",
       "      <td>2016-01-08 17:18:59</td>\n",
       "    </tr>\n",
       "    <tr>\n",
       "      <th>5</th>\n",
       "      <td>0x1d755c</td>\n",
       "      <td>120</td>\n",
       "      <td>authentic Laugh Out Loud</td>\n",
       "      <td>RISKshow The Kevin Allison Thx for the BEST T...</td>\n",
       "      <td>2015-06-11 04:44:05</td>\n",
       "    </tr>\n",
       "    <tr>\n",
       "      <th>6</th>\n",
       "      <td>0x2c91a8</td>\n",
       "      <td>1021</td>\n",
       "      <td></td>\n",
       "      <td>Still waiting on those supplies Liscus</td>\n",
       "      <td>2015-08-18 02:30:07</td>\n",
       "    </tr>\n",
       "    <tr>\n",
       "      <th>7</th>\n",
       "      <td>0x368e95</td>\n",
       "      <td>481</td>\n",
       "      <td></td>\n",
       "      <td>Love knows no gender 😢😭</td>\n",
       "      <td>2015-08-20 14:31:27</td>\n",
       "    </tr>\n",
       "    <tr>\n",
       "      <th>8</th>\n",
       "      <td>0x249c0c</td>\n",
       "      <td>827</td>\n",
       "      <td>League Cup</td>\n",
       "      <td>DStv Ng Care DStv Ng More highlights are bein...</td>\n",
       "      <td>2016-04-18 13:01:02</td>\n",
       "    </tr>\n",
       "    <tr>\n",
       "      <th>9</th>\n",
       "      <td>0x218443</td>\n",
       "      <td>66</td>\n",
       "      <td>materialism money possessions</td>\n",
       "      <td>When do you have enough  When are you satisfi...</td>\n",
       "      <td>2015-09-09 09:22:55</td>\n",
       "    </tr>\n",
       "  </tbody>\n",
       "</table>\n",
       "</div>"
      ],
      "text/plain": [
       "   tweet_id score                       hashtags  \\\n",
       "0  0x376b20   391                       Snapchat   \n",
       "1  0x2d5350   433     freepress Trump Legacy CNN   \n",
       "2  0x28b412   232                     bibleverse   \n",
       "3  0x1cd5b0   376                                  \n",
       "4  0x2de201   989                                  \n",
       "5  0x1d755c   120       authentic Laugh Out Loud   \n",
       "6  0x2c91a8  1021                                  \n",
       "7  0x368e95   481                                  \n",
       "8  0x249c0c   827                     League Cup   \n",
       "9  0x218443    66  materialism money possessions   \n",
       "\n",
       "                                                text            crawldate  \n",
       "0   People who post add me on Snapchat must be de...  2015-05-23 11:42:47  \n",
       "1  brianklaas As we see Trump is dangerous to fre...  2016-01-28 04:52:09  \n",
       "2   Confident of your obedience I write to you kn...  2017-12-25 04:39:20  \n",
       "3                    Now ISSA is stalking Tasha 😂😂😂   2016-01-24 23:53:05  \n",
       "4   Trust is not the same as faith A friend is so...  2016-01-08 17:18:59  \n",
       "5   RISKshow The Kevin Allison Thx for the BEST T...  2015-06-11 04:44:05  \n",
       "6            Still waiting on those supplies Liscus   2015-08-18 02:30:07  \n",
       "7                           Love knows no gender 😢😭   2015-08-20 14:31:27  \n",
       "8   DStv Ng Care DStv Ng More highlights are bein...  2016-04-18 13:01:02  \n",
       "9   When do you have enough  When are you satisfi...  2015-09-09 09:22:55  "
      ]
     },
     "execution_count": 44,
     "metadata": {},
     "output_type": "execute_result"
    }
   ],
   "source": [
    "dataset = np.vstack((tweet_id, score, hashtags_str, text_str, crawldate)).T\n",
    "df = pd.DataFrame(dataset, columns=['tweet_id', 'score', 'hashtags', 'text', 'crawldate'])\n",
    "df.head(10)"
   ]
  },
  {
   "cell_type": "markdown",
   "metadata": {},
   "source": [
    "Split training and testing data"
   ]
  },
  {
   "cell_type": "code",
   "execution_count": 45,
   "metadata": {},
   "outputs": [],
   "source": [
    "id_train = list(emotion.tweet_id.values)\n",
    "id_test = list(data_id[data_id.identification=='test'].tweet_id.values)"
   ]
  },
  {
   "cell_type": "code",
   "execution_count": 46,
   "metadata": {},
   "outputs": [
    {
     "data": {
      "text/html": [
       "<div>\n",
       "<style scoped>\n",
       "    .dataframe tbody tr th:only-of-type {\n",
       "        vertical-align: middle;\n",
       "    }\n",
       "\n",
       "    .dataframe tbody tr th {\n",
       "        vertical-align: top;\n",
       "    }\n",
       "\n",
       "    .dataframe thead th {\n",
       "        text-align: right;\n",
       "    }\n",
       "</style>\n",
       "<table border=\"1\" class=\"dataframe\">\n",
       "  <thead>\n",
       "    <tr style=\"text-align: right;\">\n",
       "      <th></th>\n",
       "      <th>tweet_id</th>\n",
       "      <th>score</th>\n",
       "      <th>hashtags</th>\n",
       "      <th>text</th>\n",
       "      <th>crawldate</th>\n",
       "      <th>emotion</th>\n",
       "    </tr>\n",
       "  </thead>\n",
       "  <tbody>\n",
       "    <tr>\n",
       "      <th>0</th>\n",
       "      <td>0x1c7f10</td>\n",
       "      <td>242</td>\n",
       "      <td>Black Mirror</td>\n",
       "      <td>o m g Shut Up And Dance though Black Mirror</td>\n",
       "      <td>2015-05-16 10:36:47</td>\n",
       "      <td>joy</td>\n",
       "    </tr>\n",
       "    <tr>\n",
       "      <th>1</th>\n",
       "      <td>0x1c7f11</td>\n",
       "      <td>915</td>\n",
       "      <td>twitch Destinybeta Destiny Destiny2 Destinythe...</td>\n",
       "      <td>On twitch  on the Destinybeta Destiny Destiny...</td>\n",
       "      <td>2016-10-15 20:46:37</td>\n",
       "      <td>anticipation</td>\n",
       "    </tr>\n",
       "    <tr>\n",
       "      <th>2</th>\n",
       "      <td>0x1c7f14</td>\n",
       "      <td>939</td>\n",
       "      <td></td>\n",
       "      <td>A nice sunny wak this morning not many  aroud...</td>\n",
       "      <td>2016-07-04 07:22:56</td>\n",
       "      <td>joy</td>\n",
       "    </tr>\n",
       "    <tr>\n",
       "      <th>3</th>\n",
       "      <td>0x1c7f15</td>\n",
       "      <td>181</td>\n",
       "      <td>Confession National Candy Corn Day Could Eat ...</td>\n",
       "      <td>Im one of those people who love candy corn a ...</td>\n",
       "      <td>2016-04-16 12:53:40</td>\n",
       "      <td>joy</td>\n",
       "    </tr>\n",
       "    <tr>\n",
       "      <th>4</th>\n",
       "      <td>0x1c7f16</td>\n",
       "      <td>970</td>\n",
       "      <td></td>\n",
       "      <td>metmuseum What are these They look like someth...</td>\n",
       "      <td>2017-04-22 17:50:28</td>\n",
       "      <td>disgust</td>\n",
       "    </tr>\n",
       "    <tr>\n",
       "      <th>...</th>\n",
       "      <td>...</td>\n",
       "      <td>...</td>\n",
       "      <td>...</td>\n",
       "      <td>...</td>\n",
       "      <td>...</td>\n",
       "      <td>...</td>\n",
       "    </tr>\n",
       "    <tr>\n",
       "      <th>1455558</th>\n",
       "      <td>0x38fe18</td>\n",
       "      <td>922</td>\n",
       "      <td></td>\n",
       "      <td>LJPBR Fifth Harmony Um  My vote For Fifth Har...</td>\n",
       "      <td>2016-12-06 11:10:57</td>\n",
       "      <td>sadness</td>\n",
       "    </tr>\n",
       "    <tr>\n",
       "      <th>1455559</th>\n",
       "      <td>0x38fe19</td>\n",
       "      <td>77</td>\n",
       "      <td>Wes Hoolahan WALv IRL COYBIG</td>\n",
       "      <td>Where is Wes Hoolahan  WALv IRL COYBIG</td>\n",
       "      <td>2015-02-01 18:04:28</td>\n",
       "      <td>anticipation</td>\n",
       "    </tr>\n",
       "    <tr>\n",
       "      <th>1455560</th>\n",
       "      <td>0x38fe1a</td>\n",
       "      <td>25</td>\n",
       "      <td>not maga</td>\n",
       "      <td>mattmfm Fake news  propagated by Tumpkins  not...</td>\n",
       "      <td>2016-12-20 17:19:58</td>\n",
       "      <td>surprise</td>\n",
       "    </tr>\n",
       "    <tr>\n",
       "      <th>1455561</th>\n",
       "      <td>0x38fe1c</td>\n",
       "      <td>639</td>\n",
       "      <td></td>\n",
       "      <td>today was brutal  Hungover</td>\n",
       "      <td>2016-09-13 06:31:27</td>\n",
       "      <td>disgust</td>\n",
       "    </tr>\n",
       "    <tr>\n",
       "      <th>1455562</th>\n",
       "      <td>0x38fe1d</td>\n",
       "      <td>630</td>\n",
       "      <td>redheadproblems ouch burnt</td>\n",
       "      <td>Love it when I sun burn my forehead NOT 😫😱🙄🤦🏼...</td>\n",
       "      <td>2016-09-19 14:35:01</td>\n",
       "      <td>sadness</td>\n",
       "    </tr>\n",
       "  </tbody>\n",
       "</table>\n",
       "<p>1455563 rows × 6 columns</p>\n",
       "</div>"
      ],
      "text/plain": [
       "         tweet_id score                                           hashtags  \\\n",
       "0        0x1c7f10   242                                       Black Mirror   \n",
       "1        0x1c7f11   915  twitch Destinybeta Destiny Destiny2 Destinythe...   \n",
       "2        0x1c7f14   939                                                      \n",
       "3        0x1c7f15   181   Confession National Candy Corn Day Could Eat ...   \n",
       "4        0x1c7f16   970                                                      \n",
       "...           ...   ...                                                ...   \n",
       "1455558  0x38fe18   922                                                      \n",
       "1455559  0x38fe19    77                       Wes Hoolahan WALv IRL COYBIG   \n",
       "1455560  0x38fe1a    25                                           not maga   \n",
       "1455561  0x38fe1c   639                                                      \n",
       "1455562  0x38fe1d   630                         redheadproblems ouch burnt   \n",
       "\n",
       "                                                      text  \\\n",
       "0             o m g Shut Up And Dance though Black Mirror    \n",
       "1         On twitch  on the Destinybeta Destiny Destiny...   \n",
       "2         A nice sunny wak this morning not many  aroud...   \n",
       "3         Im one of those people who love candy corn a ...   \n",
       "4        metmuseum What are these They look like someth...   \n",
       "...                                                    ...   \n",
       "1455558   LJPBR Fifth Harmony Um  My vote For Fifth Har...   \n",
       "1455559            Where is Wes Hoolahan  WALv IRL COYBIG    \n",
       "1455560  mattmfm Fake news  propagated by Tumpkins  not...   \n",
       "1455561                         today was brutal  Hungover   \n",
       "1455562   Love it when I sun burn my forehead NOT 😫😱🙄🤦🏼...   \n",
       "\n",
       "                   crawldate       emotion  \n",
       "0        2015-05-16 10:36:47           joy  \n",
       "1        2016-10-15 20:46:37  anticipation  \n",
       "2        2016-07-04 07:22:56           joy  \n",
       "3        2016-04-16 12:53:40           joy  \n",
       "4        2017-04-22 17:50:28       disgust  \n",
       "...                      ...           ...  \n",
       "1455558  2016-12-06 11:10:57       sadness  \n",
       "1455559  2015-02-01 18:04:28  anticipation  \n",
       "1455560  2016-12-20 17:19:58      surprise  \n",
       "1455561  2016-09-13 06:31:27       disgust  \n",
       "1455562  2016-09-19 14:35:01       sadness  \n",
       "\n",
       "[1455563 rows x 6 columns]"
      ]
     },
     "execution_count": 46,
     "metadata": {},
     "output_type": "execute_result"
    }
   ],
   "source": [
    "df_train = df[df.tweet_id.isin(id_train)].sort_values(by=['tweet_id'], ignore_index=True)\n",
    "df_train['emotion'] = emotion.sort_values(by=['tweet_id'], ignore_index=True).emotion.values\n",
    "df_train"
   ]
  },
  {
   "cell_type": "code",
   "execution_count": 47,
   "metadata": {},
   "outputs": [
    {
     "data": {
      "text/html": [
       "<div>\n",
       "<style scoped>\n",
       "    .dataframe tbody tr th:only-of-type {\n",
       "        vertical-align: middle;\n",
       "    }\n",
       "\n",
       "    .dataframe tbody tr th {\n",
       "        vertical-align: top;\n",
       "    }\n",
       "\n",
       "    .dataframe thead th {\n",
       "        text-align: right;\n",
       "    }\n",
       "</style>\n",
       "<table border=\"1\" class=\"dataframe\">\n",
       "  <thead>\n",
       "    <tr style=\"text-align: right;\">\n",
       "      <th></th>\n",
       "      <th>tweet_id</th>\n",
       "      <th>score</th>\n",
       "      <th>hashtags</th>\n",
       "      <th>text</th>\n",
       "      <th>crawldate</th>\n",
       "    </tr>\n",
       "  </thead>\n",
       "  <tbody>\n",
       "    <tr>\n",
       "      <th>0</th>\n",
       "      <td>0x1c7f0f</td>\n",
       "      <td>62</td>\n",
       "      <td></td>\n",
       "      <td>JZED74 While inappropriate AF he likely wasnt...</td>\n",
       "      <td>2017-05-14 11:39:43</td>\n",
       "    </tr>\n",
       "    <tr>\n",
       "      <th>1</th>\n",
       "      <td>0x1c7f12</td>\n",
       "      <td>756</td>\n",
       "      <td></td>\n",
       "      <td>I tried to figure out why you mean so much to...</td>\n",
       "      <td>2016-02-14 15:55:45</td>\n",
       "    </tr>\n",
       "    <tr>\n",
       "      <th>2</th>\n",
       "      <td>0x1c7f13</td>\n",
       "      <td>213</td>\n",
       "      <td>auspol fizza</td>\n",
       "      <td>The only “big plan” you ever had in your life...</td>\n",
       "      <td>2016-07-25 17:05:35</td>\n",
       "    </tr>\n",
       "    <tr>\n",
       "      <th>3</th>\n",
       "      <td>0x1c7f17</td>\n",
       "      <td>603</td>\n",
       "      <td></td>\n",
       "      <td>Looking back on situations old  new recent or...</td>\n",
       "      <td>2017-01-21 19:25:33</td>\n",
       "    </tr>\n",
       "    <tr>\n",
       "      <th>4</th>\n",
       "      <td>0x1c7f18</td>\n",
       "      <td>609</td>\n",
       "      <td></td>\n",
       "      <td>jasoninthehouse Why do you insist on talking a...</td>\n",
       "      <td>2017-04-25 16:36:47</td>\n",
       "    </tr>\n",
       "    <tr>\n",
       "      <th>...</th>\n",
       "      <td>...</td>\n",
       "      <td>...</td>\n",
       "      <td>...</td>\n",
       "      <td>...</td>\n",
       "      <td>...</td>\n",
       "    </tr>\n",
       "    <tr>\n",
       "      <th>411967</th>\n",
       "      <td>0x38fe04</td>\n",
       "      <td>497</td>\n",
       "      <td>traitor treason</td>\n",
       "      <td>The Grand Bargain The Great American Betrayal...</td>\n",
       "      <td>2016-12-05 19:57:34</td>\n",
       "    </tr>\n",
       "    <tr>\n",
       "      <th>411968</th>\n",
       "      <td>0x38fe06</td>\n",
       "      <td>187</td>\n",
       "      <td>Foster Care roadtoadoption Adoption</td>\n",
       "      <td>I get to be a 1 year old girls new mama start...</td>\n",
       "      <td>2017-07-15 19:43:46</td>\n",
       "    </tr>\n",
       "    <tr>\n",
       "      <th>411969</th>\n",
       "      <td>0x38fe13</td>\n",
       "      <td>139</td>\n",
       "      <td>artworld</td>\n",
       "      <td>Asian dude with dangly gold earrings is back ...</td>\n",
       "      <td>2017-07-13 07:01:50</td>\n",
       "    </tr>\n",
       "    <tr>\n",
       "      <th>411970</th>\n",
       "      <td>0x38fe14</td>\n",
       "      <td>251</td>\n",
       "      <td>nba cantmakea J</td>\n",
       "      <td>I think kostakoufos might be the worst player...</td>\n",
       "      <td>2016-08-22 22:13:06</td>\n",
       "    </tr>\n",
       "    <tr>\n",
       "      <th>411971</th>\n",
       "      <td>0x38fe1b</td>\n",
       "      <td>611</td>\n",
       "      <td></td>\n",
       "      <td>I told myself Id be twitter famous twitter ma...</td>\n",
       "      <td>2016-02-14 03:24:55</td>\n",
       "    </tr>\n",
       "  </tbody>\n",
       "</table>\n",
       "<p>411972 rows × 5 columns</p>\n",
       "</div>"
      ],
      "text/plain": [
       "        tweet_id score                              hashtags  \\\n",
       "0       0x1c7f0f    62                                         \n",
       "1       0x1c7f12   756                                         \n",
       "2       0x1c7f13   213                          auspol fizza   \n",
       "3       0x1c7f17   603                                         \n",
       "4       0x1c7f18   609                                         \n",
       "...          ...   ...                                   ...   \n",
       "411967  0x38fe04   497                       traitor treason   \n",
       "411968  0x38fe06   187   Foster Care roadtoadoption Adoption   \n",
       "411969  0x38fe13   139                              artworld   \n",
       "411970  0x38fe14   251                       nba cantmakea J   \n",
       "411971  0x38fe1b   611                                         \n",
       "\n",
       "                                                     text            crawldate  \n",
       "0        JZED74 While inappropriate AF he likely wasnt...  2017-05-14 11:39:43  \n",
       "1        I tried to figure out why you mean so much to...  2016-02-14 15:55:45  \n",
       "2        The only “big plan” you ever had in your life...  2016-07-25 17:05:35  \n",
       "3        Looking back on situations old  new recent or...  2017-01-21 19:25:33  \n",
       "4       jasoninthehouse Why do you insist on talking a...  2017-04-25 16:36:47  \n",
       "...                                                   ...                  ...  \n",
       "411967   The Grand Bargain The Great American Betrayal...  2016-12-05 19:57:34  \n",
       "411968   I get to be a 1 year old girls new mama start...  2017-07-15 19:43:46  \n",
       "411969   Asian dude with dangly gold earrings is back ...  2017-07-13 07:01:50  \n",
       "411970   I think kostakoufos might be the worst player...  2016-08-22 22:13:06  \n",
       "411971   I told myself Id be twitter famous twitter ma...  2016-02-14 03:24:55  \n",
       "\n",
       "[411972 rows x 5 columns]"
      ]
     },
     "execution_count": 47,
     "metadata": {},
     "output_type": "execute_result"
    }
   ],
   "source": [
    "df_test = df[df.tweet_id.isin(id_test)].sort_values(by=['tweet_id'], ignore_index=True)\n",
    "df_test"
   ]
  },
  {
   "cell_type": "markdown",
   "metadata": {},
   "source": [
    "See the labels counts.  The label is not balanced."
   ]
  },
  {
   "cell_type": "code",
   "execution_count": 48,
   "metadata": {},
   "outputs": [
    {
     "data": {
      "text/plain": [
       "joy             516017\n",
       "anticipation    248935\n",
       "trust           205478\n",
       "sadness         193437\n",
       "disgust         139101\n",
       "fear             63999\n",
       "surprise         48729\n",
       "anger            39867\n",
       "Name: emotion, dtype: int64"
      ]
     },
     "execution_count": 48,
     "metadata": {},
     "output_type": "execute_result"
    }
   ],
   "source": [
    "df_train.emotion.value_counts()"
   ]
  },
  {
   "cell_type": "markdown",
   "metadata": {},
   "source": [
    "Because the hashtags are in the text data as well, I decided to use only the text data in the end.  Train a tiidf vectorizer of 2000 maximum feature to extract features."
   ]
  },
  {
   "cell_type": "code",
   "execution_count": 56,
   "metadata": {},
   "outputs": [],
   "source": [
    "'''\n",
    "tfidf_vect = TfidfVectorizer(max_features=2000, tokenizer=nltk.word_tokenize)\n",
    "tfidf_vect.fit(df_train['text'])\n",
    "'''\n",
    "#joblib.dump(tfidf_vect, './kaggle/w2vec/tfidf2000.sav')\n",
    "tfidf_vect = joblib.load('./kaggle/w2vec/tfidf2000.sav')"
   ]
  },
  {
   "cell_type": "code",
   "execution_count": 57,
   "metadata": {},
   "outputs": [],
   "source": [
    "X = tfidf_vect.transform(df_train['text'])\n",
    "X_test = tfidf_vect.transform(df_test['text'])\n",
    "y = df_train['emotion']"
   ]
  },
  {
   "cell_type": "markdown",
   "metadata": {},
   "source": [
    "Leave some for validation"
   ]
  },
  {
   "cell_type": "code",
   "execution_count": 58,
   "metadata": {},
   "outputs": [],
   "source": [
    "X_train, X_val, y_train, y_val = train_test_split(X, y, test_size=0.2)"
   ]
  },
  {
   "cell_type": "markdown",
   "metadata": {},
   "source": [
    "Do one-hot encoding on the label"
   ]
  },
  {
   "cell_type": "code",
   "execution_count": 59,
   "metadata": {},
   "outputs": [],
   "source": [
    "le = LabelEncoder()\n",
    "le.fit(y_train)\n",
    "y_train_le = keras.utils.to_categorical(le.transform(y_train))\n",
    "y_val_le = keras.utils.to_categorical(le.transform(y_val))"
   ]
  },
  {
   "cell_type": "markdown",
   "metadata": {},
   "source": [
    "Train a NN model.  Since F1 score is what we cared, I use `CategoricalAccuracy`, `Precision`, and `Recall` for model metrics."
   ]
  },
  {
   "cell_type": "code",
   "execution_count": 60,
   "metadata": {},
   "outputs": [
    {
     "name": "stdout",
     "output_type": "stream",
     "text": [
      "Model: \"model_3\"\n",
      "_________________________________________________________________\n",
      "Layer (type)                 Output Shape              Param #   \n",
      "=================================================================\n",
      "input_3 (InputLayer)         (None, 2000)              0         \n",
      "_________________________________________________________________\n",
      "dense_9 (Dense)              (None, 256)               512256    \n",
      "_________________________________________________________________\n",
      "re_lu_7 (ReLU)               (None, 256)               0         \n",
      "_________________________________________________________________\n",
      "dense_10 (Dense)             (None, 256)               65792     \n",
      "_________________________________________________________________\n",
      "re_lu_8 (ReLU)               (None, 256)               0         \n",
      "_________________________________________________________________\n",
      "dense_11 (Dense)             (None, 64)                16448     \n",
      "_________________________________________________________________\n",
      "re_lu_9 (ReLU)               (None, 64)                0         \n",
      "_________________________________________________________________\n",
      "dense_12 (Dense)             (None, 64)                4160      \n",
      "_________________________________________________________________\n",
      "re_lu_10 (ReLU)              (None, 64)                0         \n",
      "_________________________________________________________________\n",
      "dense_13 (Dense)             (None, 8)                 520       \n",
      "_________________________________________________________________\n",
      "softmax_3 (Softmax)          (None, 8)                 0         \n",
      "=================================================================\n",
      "Total params: 599,176\n",
      "Trainable params: 599,176\n",
      "Non-trainable params: 0\n",
      "_________________________________________________________________\n"
     ]
    }
   ],
   "source": [
    "# input layer\n",
    "model_input = Input(shape=(2000, ))  # 2000\n",
    "I = model_input\n",
    "\n",
    "# 1st hidden layer\n",
    "X_W1 = Dense(units=256)(I)  # 256\n",
    "H1 = ReLU()(X_W1)\n",
    "\n",
    "# 2nd hidden layer\n",
    "H1_W2 = Dense(units=256)(H1)  # 256\n",
    "H2 = ReLU()(H1_W2)\n",
    "\n",
    "# 3rd hidden layer\n",
    "H3_W3 = Dense(units=64)(H2)  # 64\n",
    "H3 = ReLU()(H3_W3)\n",
    "\n",
    "# 4th hidden layer\n",
    "H4_W4 = Dense(units=64)(H3)  # 64\n",
    "H4 = ReLU()(H4_W4)\n",
    "\n",
    "# output layer\n",
    "H5_W5 = Dense(units=8)(H4)  # 8\n",
    "H5 = Softmax()(H5_W5)\n",
    "\n",
    "model_output = H5\n",
    "\n",
    "# create model\n",
    "model = Model(inputs=[model_input], outputs=[model_output])\n",
    "\n",
    "optimizer = keras.optimizers.Adam(learning_rate=1e-4)\n",
    "# loss function & optimizer\n",
    "model.compile(optimizer=optimizer,\n",
    "              loss='categorical_crossentropy',\n",
    "              metrics=[keras.metrics.CategoricalAccuracy(),\n",
    "                       keras.metrics.Recall(),\n",
    "                       keras.metrics.Precision()])\n",
    "\n",
    "# show model construction\n",
    "model.summary()"
   ]
  },
  {
   "cell_type": "markdown",
   "metadata": {},
   "source": [
    "Start training.  I stop training after 5 epochs because it seems to be overfitting."
   ]
  },
  {
   "cell_type": "code",
   "execution_count": 61,
   "metadata": {},
   "outputs": [
    {
     "name": "stdout",
     "output_type": "stream",
     "text": [
      "Train on 1164450 samples, validate on 291113 samples\n",
      "Epoch 1/5\n",
      "1164450/1164450 [==============================] - 389s 334us/step - loss: 1.3990 - categorical_accuracy: 0.4925 - recall_2: 0.2799 - precision_2: 0.6945 - val_loss: 1.3531 - val_categorical_accuracy: 0.5087 - val_recall_2: 0.3091 - val_precision_2: 0.7013\n",
      "Epoch 2/5\n",
      "1164450/1164450 [==============================] - 401s 344us/step - loss: 1.3243 - categorical_accuracy: 0.5199 - recall_2: 0.3246 - precision_2: 0.7053 - val_loss: 1.3273 - val_categorical_accuracy: 0.5180 - val_recall_2: 0.3253 - val_precision_2: 0.7082\n",
      "Epoch 3/5\n",
      "1164450/1164450 [==============================] - 407s 349us/step - loss: 1.2831 - categorical_accuracy: 0.5356 - recall_2: 0.3479 - precision_2: 0.7146 - val_loss: 1.3200 - val_categorical_accuracy: 0.5218 - val_recall_2: 0.3473 - val_precision_2: 0.6967\n",
      "Epoch 4/5\n",
      "1164450/1164450 [==============================] - 407s 350us/step - loss: 1.2464 - categorical_accuracy: 0.5504 - recall_2: 0.3696 - precision_2: 0.7215 - val_loss: 1.3240 - val_categorical_accuracy: 0.5208 - val_recall_2: 0.3539 - val_precision_2: 0.6901\n",
      "Epoch 5/5\n",
      "1164450/1164450 [==============================] - 390s 335us/step - loss: 1.2137 - categorical_accuracy: 0.5639 - recall_2: 0.3898 - precision_2: 0.7269 - val_loss: 1.3295 - val_categorical_accuracy: 0.5197 - val_recall_2: 0.3531 - val_precision_2: 0.6912\n"
     ]
    }
   ],
   "source": [
    "csv_logger = CSVLogger('./kaggle/logs/training_log.csv')\n",
    "epochs = 5\n",
    "batch_size = 32\n",
    "\n",
    "# training!\n",
    "history = model.fit(X_train, y_train_le, \n",
    "                    epochs=epochs, \n",
    "                    batch_size=batch_size, \n",
    "                    callbacks=[csv_logger],\n",
    "                    validation_data = (X_val, y_val_le))"
   ]
  },
  {
   "cell_type": "code",
   "execution_count": 62,
   "metadata": {},
   "outputs": [
    {
     "name": "stdout",
     "output_type": "stream",
     "text": [
      "Epoch 1/5\n",
      "291113/291113 [==============================] - 79s 271us/step - loss: 1.3142 - categorical_accuracy: 0.5238 - recall_2: 0.3338 - precision_2: 0.7141\n",
      "Epoch 2/5\n",
      "291113/291113 [==============================] - 81s 278us/step - loss: 1.2526 - categorical_accuracy: 0.5481 - recall_2: 0.3654 - precision_2: 0.7264\n",
      "Epoch 3/5\n",
      "291113/291113 [==============================] - 80s 275us/step - loss: 1.1958 - categorical_accuracy: 0.5713 - recall_2: 0.3981 - precision_2: 0.7369\n",
      "Epoch 4/5\n",
      "291113/291113 [==============================] - 80s 276us/step - loss: 1.1368 - categorical_accuracy: 0.5960 - recall_2: 0.4342 - precision_2: 0.7482\n",
      "Epoch 5/5\n",
      "291113/291113 [==============================] - 80s 276us/step - loss: 1.0754 - categorical_accuracy: 0.6217 - recall_2: 0.4730 - precision_2: 0.7631\n"
     ]
    }
   ],
   "source": [
    "history = model.fit(X_val, y_val_le, \n",
    "                    epochs=5, \n",
    "                    batch_size=batch_size)"
   ]
  },
  {
   "cell_type": "code",
   "execution_count": 63,
   "metadata": {},
   "outputs": [],
   "source": [
    "y_pred = model.predict(X_test, batch_size=batch_size)\n",
    "y_pred = le.inverse_transform(np.argmax(y_pred, axis=1))"
   ]
  },
  {
   "cell_type": "markdown",
   "metadata": {},
   "source": [
    "Output prediction"
   ]
  },
  {
   "cell_type": "code",
   "execution_count": 64,
   "metadata": {},
   "outputs": [
    {
     "data": {
      "text/html": [
       "<div>\n",
       "<style scoped>\n",
       "    .dataframe tbody tr th:only-of-type {\n",
       "        vertical-align: middle;\n",
       "    }\n",
       "\n",
       "    .dataframe tbody tr th {\n",
       "        vertical-align: top;\n",
       "    }\n",
       "\n",
       "    .dataframe thead th {\n",
       "        text-align: right;\n",
       "    }\n",
       "</style>\n",
       "<table border=\"1\" class=\"dataframe\">\n",
       "  <thead>\n",
       "    <tr style=\"text-align: right;\">\n",
       "      <th></th>\n",
       "      <th>id</th>\n",
       "      <th>emotion</th>\n",
       "    </tr>\n",
       "  </thead>\n",
       "  <tbody>\n",
       "    <tr>\n",
       "      <th>0</th>\n",
       "      <td>0x1c7f0f</td>\n",
       "      <td>disgust</td>\n",
       "    </tr>\n",
       "    <tr>\n",
       "      <th>1</th>\n",
       "      <td>0x1c7f12</td>\n",
       "      <td>joy</td>\n",
       "    </tr>\n",
       "    <tr>\n",
       "      <th>2</th>\n",
       "      <td>0x1c7f13</td>\n",
       "      <td>joy</td>\n",
       "    </tr>\n",
       "    <tr>\n",
       "      <th>3</th>\n",
       "      <td>0x1c7f17</td>\n",
       "      <td>joy</td>\n",
       "    </tr>\n",
       "    <tr>\n",
       "      <th>4</th>\n",
       "      <td>0x1c7f18</td>\n",
       "      <td>sadness</td>\n",
       "    </tr>\n",
       "    <tr>\n",
       "      <th>...</th>\n",
       "      <td>...</td>\n",
       "      <td>...</td>\n",
       "    </tr>\n",
       "    <tr>\n",
       "      <th>411967</th>\n",
       "      <td>0x38fe04</td>\n",
       "      <td>sadness</td>\n",
       "    </tr>\n",
       "    <tr>\n",
       "      <th>411968</th>\n",
       "      <td>0x38fe06</td>\n",
       "      <td>joy</td>\n",
       "    </tr>\n",
       "    <tr>\n",
       "      <th>411969</th>\n",
       "      <td>0x38fe13</td>\n",
       "      <td>joy</td>\n",
       "    </tr>\n",
       "    <tr>\n",
       "      <th>411970</th>\n",
       "      <td>0x38fe14</td>\n",
       "      <td>anticipation</td>\n",
       "    </tr>\n",
       "    <tr>\n",
       "      <th>411971</th>\n",
       "      <td>0x38fe1b</td>\n",
       "      <td>joy</td>\n",
       "    </tr>\n",
       "  </tbody>\n",
       "</table>\n",
       "<p>411972 rows × 2 columns</p>\n",
       "</div>"
      ],
      "text/plain": [
       "              id       emotion\n",
       "0       0x1c7f0f       disgust\n",
       "1       0x1c7f12           joy\n",
       "2       0x1c7f13           joy\n",
       "3       0x1c7f17           joy\n",
       "4       0x1c7f18       sadness\n",
       "...          ...           ...\n",
       "411967  0x38fe04       sadness\n",
       "411968  0x38fe06           joy\n",
       "411969  0x38fe13           joy\n",
       "411970  0x38fe14  anticipation\n",
       "411971  0x38fe1b           joy\n",
       "\n",
       "[411972 rows x 2 columns]"
      ]
     },
     "execution_count": 64,
     "metadata": {},
     "output_type": "execute_result"
    }
   ],
   "source": [
    "ids = df_test['tweet_id'].values\n",
    "output = np.vstack((ids,y_pred)).T\n",
    "outputfile = pd.DataFrame(output, columns=['id','emotion'])\n",
    "outputfile"
   ]
  },
  {
   "cell_type": "code",
   "execution_count": null,
   "metadata": {},
   "outputs": [],
   "source": [
    "outputfile.to_csv('./kaggle/prediction/output_tfidf2000_NNep5.csv', index=False)"
   ]
  }
 ],
 "metadata": {
  "kernelspec": {
   "display_name": "Python 3",
   "language": "python",
   "name": "python3"
  },
  "language_info": {
   "codemirror_mode": {
    "name": "ipython",
    "version": 3
   },
   "file_extension": ".py",
   "mimetype": "text/x-python",
   "name": "python",
   "nbconvert_exporter": "python",
   "pygments_lexer": "ipython3",
   "version": "3.6.10"
  },
  "varInspector": {
   "cols": {
    "lenName": 16,
    "lenType": 16,
    "lenVar": 40
   },
   "kernels_config": {
    "python": {
     "delete_cmd_postfix": "",
     "delete_cmd_prefix": "del ",
     "library": "var_list.py",
     "varRefreshCmd": "print(var_dic_list())"
    },
    "r": {
     "delete_cmd_postfix": ") ",
     "delete_cmd_prefix": "rm(",
     "library": "var_list.r",
     "varRefreshCmd": "cat(var_dic_list()) "
    }
   },
   "types_to_exclude": [
    "module",
    "function",
    "builtin_function_or_method",
    "instance",
    "_Feature"
   ],
   "window_display": false
  }
 },
 "nbformat": 4,
 "nbformat_minor": 2
}
